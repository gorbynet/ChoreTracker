{
 "cells": [
  {
   "cell_type": "code",
   "execution_count": 120,
   "metadata": {},
   "outputs": [],
   "source": [
    "import sqlite3\n",
    "import datetime as dt\n",
    "import pandas as pd\n",
    "import re"
   ]
  },
  {
   "cell_type": "code",
   "execution_count": 92,
   "metadata": {},
   "outputs": [],
   "source": [
    "reset = False"
   ]
  },
  {
   "cell_type": "code",
   "execution_count": 90,
   "metadata": {},
   "outputs": [],
   "source": [
    "# set up the database\n",
    "conn = sqlite3.connect('ChoreTracker.sqlite3')\n",
    "cursor = conn.cursor()\n",
    "tables = [t[0] for t in cursor.execute(\"\"\" SELECT name FROM sqlite_schema WHERE type='table' ORDER BY name;  \"\"\").fetchall()]"
   ]
  },
  {
   "cell_type": "code",
   "execution_count": 91,
   "metadata": {},
   "outputs": [
    {
     "data": {
      "text/plain": [
       "['choreinstances',\n",
       " 'chorerates',\n",
       " 'choreresponsibilities',\n",
       " 'chores',\n",
       " 'credentials',\n",
       " 'people',\n",
       " 'roles',\n",
       " 'sqlite_sequence']"
      ]
     },
     "execution_count": 91,
     "metadata": {},
     "output_type": "execute_result"
    }
   ],
   "source": [
    "tables"
   ]
  },
  {
   "cell_type": "code",
   "execution_count": 12,
   "metadata": {},
   "outputs": [],
   "source": [
    "# Setting up the data model\n",
    "\n",
    "r = cursor.execute(\"\"\"\n",
    "create table if not exists chores (\n",
    "    ChoreID integer primary key AUTOINCREMENT,\n",
    "    name text, \n",
    "    schedule text, -- how frequently does this chore happen (in days)?\n",
    "    start_date text, -- when is the first day that this chore applies?\n",
    "    start_time text, -- what time of day does the chore window open?\n",
    "    window text, -- how many hours before the chore needs to be finished? \n",
    "    repeats INTEGER -- boolean to say whether this chore sould repeat or not\n",
    "    );\n",
    "\"\"\")\n"
   ]
  },
  {
   "cell_type": "code",
   "execution_count": 136,
   "metadata": {},
   "outputs": [],
   "source": [
    "class NoChoreNameSuppliedError(Exception):\n",
    "    pass\n",
    "\n",
    "class NoStartDateSuppliedError(Exception):\n",
    "    pass\n",
    "\n",
    "class NoStartTimeSuppliedError(Exception):\n",
    "    pass\n",
    "\n",
    "class IncorrectTimeWindowFormatError(Exception):\n",
    "    pass\n",
    "\n",
    "def create_chore(\n",
    "    name: str = None,\n",
    "    schedule: str = '1D',\n",
    "    start_date: dt.date = dt.date.today(),\n",
    "    start_time: dt.time = dt.time(7),\n",
    "    window: str = '4H',\n",
    "    repeats: bool = True\n",
    "):\n",
    "    if name is None:\n",
    "        raise NoChoreNameSuppliedError\n",
    "    if start_date is None:\n",
    "        raise NoStartDateSuppliedError\n",
    "    if start_time is None:\n",
    "        raise NoStartTimeSuppliedError\n",
    "    \n",
    "    if not re.match(r'\\d+[YWDMH]', schedule):\n",
    "        raise IncorrectTimeWindowFormatError\n",
    "\n",
    "    if not re.match(r'\\d+[YWDMH]', window):\n",
    "        raise IncorrectTimeWindowFormatError\n",
    "\n",
    "    update_db(f\"\"\"\n",
    "        INSERT INTO chores \n",
    "        (name, schedule, start_date, start_time, window, repeats)\n",
    "        VALUES\n",
    "        ('{name}', '{schedule}', '{start_date}', '{start_time}', '{window}', {repeats})\n",
    "        \"\"\")\n",
    "    \n",
    "    return True\n",
    "\n",
    "def get_chores():\n",
    "    return query_db(q=\"\"\"\n",
    "        SELECT * FROM chores\n",
    "    \"\"\")"
   ]
  },
  {
   "cell_type": "code",
   "execution_count": 141,
   "metadata": {},
   "outputs": [
    {
     "data": {
      "text/plain": [
       "True"
      ]
     },
     "execution_count": 141,
     "metadata": {},
     "output_type": "execute_result"
    }
   ],
   "source": [
    "create_chore(name='Empty dishwasher (bottom)', schedule='2D', start_date=dt.date.today())"
   ]
  },
  {
   "cell_type": "code",
   "execution_count": 142,
   "metadata": {},
   "outputs": [
    {
     "data": {
      "text/plain": [
       "(['ChoreID',\n",
       "  'name',\n",
       "  'schedule',\n",
       "  'start_date',\n",
       "  'start_time',\n",
       "  'window',\n",
       "  'repeats'],\n",
       " [(1, 'Empty dishwasher (top)', '2D', '2023-01-19', '07:00:00', '4H', 1),\n",
       "  (2, 'Empty dishwasher (top)', '2D', '2023-01-20', '07:00:00', '4H', 1),\n",
       "  (3, 'Empty dishwasher (bottom)', '2D', '2023-01-20', '07:00:00', '4H', 1),\n",
       "  (4, 'Empty dishwasher (bottom)', '2D', '2023-01-19', '07:00:00', '4H', 1)])"
      ]
     },
     "execution_count": 142,
     "metadata": {},
     "output_type": "execute_result"
    }
   ],
   "source": [
    "get_chores()"
   ]
  },
  {
   "cell_type": "code",
   "execution_count": 38,
   "metadata": {},
   "outputs": [],
   "source": [
    "if reset:\n",
    "    r = cursor.execute(\"\"\"\n",
    "    drop table roles;\n",
    "    \"\"\")\n",
    "    \n",
    "r = cursor.execute(\"\"\"\n",
    "create table if not exists roles (\n",
    "    RoleID integer primary key AUTOINCREMENT,\n",
    "    RoleName text UNIQUE -- parent or child\n",
    "    );\n",
    "\"\"\")\n",
    "\n",
    "if reset:\n",
    "    for role in ['Parent', 'Child']:\n",
    "        r = cursor.execute(f\"\"\"\n",
    "            INSERT INTO roles (RoleName) VALUES ('{role}');\n",
    "        \"\"\")\n",
    "\n",
    "conn.commit()"
   ]
  },
  {
   "cell_type": "code",
   "execution_count": 51,
   "metadata": {},
   "outputs": [],
   "source": [
    "if reset:\n",
    "    r = cursor.execute(\"\"\" drop table people \"\"\")"
   ]
  },
  {
   "cell_type": "code",
   "execution_count": 49,
   "metadata": {},
   "outputs": [],
   "source": [
    "# Keep track of individuals so chores can be assigned to them\n",
    "r = cursor.execute(\"\"\"\n",
    "create table if not exists people (\n",
    "    PersonID integer primary key AUTOINCREMENT,\n",
    "    PersonName text, \n",
    "    RoleID INTEGER, -- whether person is parent or child\n",
    "    CurrentBalance INTEGER -- balance in pence, display number/100 for proper currency\n",
    "    );\n",
    "\"\"\")\n"
   ]
  },
  {
   "cell_type": "code",
   "execution_count": 21,
   "metadata": {},
   "outputs": [],
   "source": [
    "\n",
    "# We're going to have a daily scheduled process to calculate the day's chores, and pop them in this table\n",
    "# so we can track whether repeated chores are carried out \n",
    "r = cursor.execute(\"\"\"\n",
    "create table if not exists choreinstances (\n",
    "    ChoreInstanceID integer primary key,\n",
    "    ChoreID INTEGER, \n",
    "    Completed INTEGER, -- Boolean\n",
    "    CompletedBy INTEGER, -- this will store PersonID of whoever completed it\n",
    "    Banked INTEGER -- has it been paid into the bank account?\n",
    "    );\n",
    "\"\"\")\n"
   ]
  },
  {
   "cell_type": "code",
   "execution_count": 22,
   "metadata": {},
   "outputs": [],
   "source": [
    "\n",
    "# Who is responsible for each chore?\n",
    "# More than one person can be responsible, so we have to be \n",
    "# able to track whether a multi-person chore has been completed and by whom\n",
    "r = cursor.execute(\"\"\"\n",
    "create table if not exists choreresponsibilities (\n",
    "    ResponsibilityID integer primary key,\n",
    "    PersonID INTEGER, \n",
    "    ChoreID INTEGER\n",
    "    );\n",
    "\"\"\")\n"
   ]
  },
  {
   "cell_type": "code",
   "execution_count": 102,
   "metadata": {},
   "outputs": [],
   "source": [
    "# What's the going rate for a chore these days?\n",
    "r = cursor.execute(\"\"\"\n",
    "create table if not exists chorerates (\n",
    "    RateID integer primary key,\n",
    "    ChoreRate INTEGER, -- amount in pence\n",
    "    StartDate TEXT -- when did the rate take effect?\n",
    "    );\n",
    "\"\"\")"
   ]
  },
  {
   "cell_type": "code",
   "execution_count": 112,
   "metadata": {},
   "outputs": [
    {
     "data": {
      "text/plain": [
       "([(1, 25, '2023-01-01'), (2, 25, '2023-01-01 19:39:00')],\n",
       " ['RateID', 'Rate', 'StartDate'])"
      ]
     },
     "execution_count": 112,
     "metadata": {},
     "output_type": "execute_result"
    }
   ],
   "source": [
    "cursor.execute(\"\"\" SELECT * FROM chorerates\"\"\").fetchall(), \\\n",
    "[c[0] for c in cursor.description]"
   ]
  },
  {
   "cell_type": "code",
   "execution_count": 95,
   "metadata": {},
   "outputs": [],
   "source": []
  },
  {
   "cell_type": "code",
   "execution_count": 116,
   "metadata": {},
   "outputs": [],
   "source": [
    "def update_chore_rate(ChoreRate: int = 25):\n",
    "    update_db(f\"\"\" \n",
    "        INSERT INTO chorerates \n",
    "        (Rate, StartDate) \n",
    "        VALUES ({ChoreRate}, '{dt.datetime.strftime(dt.datetime.now(), \"%Y-%m-%d %H:%M:%S\")}')\n",
    "        \"\"\")\n",
    "\n",
    "def get_chore_rates():\n",
    "    return query_db(\"\"\" SELECT * FROM chorerates\"\"\")"
   ]
  },
  {
   "cell_type": "code",
   "execution_count": 119,
   "metadata": {},
   "outputs": [
    {
     "data": {
      "text/plain": [
       "(['RateID', 'Rate', 'StartDate'],\n",
       " [(1, 25, '2023-01-01'),\n",
       "  (2, 25, '2023-01-01 19:39:00'),\n",
       "  (3, 30, '2023-01-19 20:07:35'),\n",
       "  (4, 25, '2023-01-19 20:07:59')])"
      ]
     },
     "execution_count": 119,
     "metadata": {},
     "output_type": "execute_result"
    }
   ],
   "source": [
    "get_chore_rates()"
   ]
  },
  {
   "cell_type": "code",
   "execution_count": 118,
   "metadata": {},
   "outputs": [],
   "source": [
    "update_chore_rate(ChoreRate=25)"
   ]
  },
  {
   "cell_type": "code",
   "execution_count": 66,
   "metadata": {},
   "outputs": [],
   "source": [
    "\n",
    "# Need to have some way of storing the parent passcode\n",
    "# and potentially change it.\n",
    "\n",
    "r = cursor.execute(\"\"\"\n",
    "create table if not exists credentials (\n",
    "    CredentialID integer primary key,\n",
    "    RoleID INTEGER, -- need one or both of these two\n",
    "    PersonID INTEGER, -- need one or both of these two\n",
    "    Passcode TEXT -- this should possibly be encrypted...\n",
    "    );\n",
    "\"\"\")"
   ]
  },
  {
   "cell_type": "code",
   "execution_count": 81,
   "metadata": {},
   "outputs": [],
   "source": [
    "\n",
    "class UnrecognisedRoleTypeError(Exception):\n",
    "    pass\n",
    "\n",
    "def update_db(\n",
    "    q: str = None,\n",
    "    db_name: str = 'ChoreTracker.sqlite3',\n",
    "    commit: bool = True\n",
    "    ):\n",
    "        conn = sqlite3.connect(db_name) \n",
    "        cursor = conn.cursor()\n",
    "        r = cursor.execute(q)\n",
    "        if commit:\n",
    "            conn.commit()\n",
    "        conn.close()\n",
    "        return r\n",
    "\n",
    "def query_db(\n",
    "    q: str = None,\n",
    "    db_name: str = 'ChoreTracker.sqlite3',\n",
    "    ):\n",
    "        conn = sqlite3.connect(db_name) \n",
    "        cursor = conn.cursor()\n",
    "        r = cursor.execute(q).fetchall()\n",
    "        cols = [c[0] for c in cursor.description]\n",
    "        conn.close()\n",
    "        return cols, r\n",
    "\n",
    "def create_person(PersonName: str = None, RoleType: str = None, CurrentBalance: int = 0):\n",
    "    if not RoleType in role_ids:\n",
    "        raise UnrecognisedRoleTypeError\n",
    "\n",
    "    r = update_db(q=f\"\"\"\n",
    "        INSERT INTO people (PersonName, RoleID, CurrentBalance) VALUES ('{PersonName}', {role_ids[RoleType]}, {CurrentBalance});\n",
    "    \"\"\", commit=True)\n",
    "\n",
    "\n"
   ]
  },
  {
   "cell_type": "code",
   "execution_count": 94,
   "metadata": {},
   "outputs": [
    {
     "data": {
      "text/plain": [
       "{'Parent': 2, 'Child': 3}"
      ]
     },
     "execution_count": 94,
     "metadata": {},
     "output_type": "execute_result"
    }
   ],
   "source": [
    "role_cols, roles = query_db(\"\"\" select * from roles \"\"\") # .fetchall()\n",
    "roles\n",
    "role_ids = dict([(dict(roles)[k], k) for k in dict(roles)])\n",
    "role_ids"
   ]
  },
  {
   "cell_type": "code",
   "execution_count": 78,
   "metadata": {},
   "outputs": [],
   "source": [
    "create_person(PersonName='Michelle', RoleType='Parent')"
   ]
  },
  {
   "cell_type": "code",
   "execution_count": 86,
   "metadata": {},
   "outputs": [
    {
     "data": {
      "text/html": [
       "<div>\n",
       "<style scoped>\n",
       "    .dataframe tbody tr th:only-of-type {\n",
       "        vertical-align: middle;\n",
       "    }\n",
       "\n",
       "    .dataframe tbody tr th {\n",
       "        vertical-align: top;\n",
       "    }\n",
       "\n",
       "    .dataframe thead th {\n",
       "        text-align: right;\n",
       "    }\n",
       "</style>\n",
       "<table border=\"1\" class=\"dataframe\">\n",
       "  <thead>\n",
       "    <tr style=\"text-align: right;\">\n",
       "      <th></th>\n",
       "      <th>PersonID</th>\n",
       "      <th>PersonName</th>\n",
       "      <th>RoleID</th>\n",
       "      <th>CurrentBalance</th>\n",
       "    </tr>\n",
       "  </thead>\n",
       "  <tbody>\n",
       "    <tr>\n",
       "      <th>0</th>\n",
       "      <td>1</td>\n",
       "      <td>Mike</td>\n",
       "      <td>2</td>\n",
       "      <td>0</td>\n",
       "    </tr>\n",
       "    <tr>\n",
       "      <th>1</th>\n",
       "      <td>2</td>\n",
       "      <td>Michelle</td>\n",
       "      <td>2</td>\n",
       "      <td>0</td>\n",
       "    </tr>\n",
       "  </tbody>\n",
       "</table>\n",
       "</div>"
      ],
      "text/plain": [
       "   PersonID PersonName  RoleID  CurrentBalance\n",
       "0         1       Mike       2               0\n",
       "1         2   Michelle       2               0"
      ]
     },
     "execution_count": 86,
     "metadata": {},
     "output_type": "execute_result"
    }
   ],
   "source": [
    "cols, people = query_db(q=\"\"\" select * from people \"\"\") # .fetchall()\n",
    "pd.DataFrame(columns=cols, data=people) # [c[0] for c in cursor.description], "
   ]
  },
  {
   "cell_type": "code",
   "execution_count": 67,
   "metadata": {},
   "outputs": [],
   "source": [
    "r = cursor.execute(f\"\"\"\n",
    "    INSERT INTO chorerates (Rate, StartDate) VALUES (25, '2023-01-01 19:39:00');\n",
    "\"\"\")\n",
    "conn.commit()"
   ]
  },
  {
   "cell_type": "code",
   "execution_count": 68,
   "metadata": {},
   "outputs": [],
   "source": [
    "import pandas as pd"
   ]
  },
  {
   "cell_type": "code",
   "execution_count": 70,
   "metadata": {},
   "outputs": [
    {
     "data": {
      "text/html": [
       "<div>\n",
       "<style scoped>\n",
       "    .dataframe tbody tr th:only-of-type {\n",
       "        vertical-align: middle;\n",
       "    }\n",
       "\n",
       "    .dataframe tbody tr th {\n",
       "        vertical-align: top;\n",
       "    }\n",
       "\n",
       "    .dataframe thead th {\n",
       "        text-align: right;\n",
       "    }\n",
       "</style>\n",
       "<table border=\"1\" class=\"dataframe\">\n",
       "  <thead>\n",
       "    <tr style=\"text-align: right;\">\n",
       "      <th></th>\n",
       "      <th>Rate</th>\n",
       "      <th>StartDate</th>\n",
       "    </tr>\n",
       "  </thead>\n",
       "  <tbody>\n",
       "    <tr>\n",
       "      <th>0</th>\n",
       "      <td>25</td>\n",
       "      <td>2023-01-01 00:00:00</td>\n",
       "    </tr>\n",
       "    <tr>\n",
       "      <th>1</th>\n",
       "      <td>25</td>\n",
       "      <td>2023-01-01 19:39:00</td>\n",
       "    </tr>\n",
       "  </tbody>\n",
       "</table>\n",
       "</div>"
      ],
      "text/plain": [
       "   Rate            StartDate\n",
       "0    25  2023-01-01 00:00:00\n",
       "1    25  2023-01-01 19:39:00"
      ]
     },
     "execution_count": 70,
     "metadata": {},
     "output_type": "execute_result"
    }
   ],
   "source": [
    "rates = cursor.execute(\"\"\" select rate, datetime(StartDate) as StartDate from chorerates \"\"\").fetchall()\n",
    "pd.DataFrame(rates, columns=[c[0] for c in cursor.description])"
   ]
  },
  {
   "cell_type": "code",
   "execution_count": null,
   "metadata": {},
   "outputs": [],
   "source": []
  }
 ],
 "metadata": {
  "kernelspec": {
   "display_name": "ChoreTracker",
   "language": "python",
   "name": "python3"
  },
  "language_info": {
   "codemirror_mode": {
    "name": "ipython",
    "version": 3
   },
   "file_extension": ".py",
   "mimetype": "text/x-python",
   "name": "python",
   "nbconvert_exporter": "python",
   "pygments_lexer": "ipython3",
   "version": "3.10.1"
  },
  "orig_nbformat": 4,
  "vscode": {
   "interpreter": {
    "hash": "9c10cf430ce861754ff4f9ec75d9fde65b41e97ba7d43094f3c02d2336b577f3"
   }
  }
 },
 "nbformat": 4,
 "nbformat_minor": 2
}
