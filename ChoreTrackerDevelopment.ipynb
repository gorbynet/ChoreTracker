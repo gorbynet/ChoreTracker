{
 "cells": [
  {
   "cell_type": "code",
   "execution_count": 120,
   "metadata": {},
   "outputs": [],
   "source": [
    "import sqlite3\n",
    "import datetime as dt\n",
    "import pandas as pd\n",
    "import re"
   ]
  },
  {
   "cell_type": "code",
   "execution_count": 340,
   "metadata": {},
   "outputs": [],
   "source": [
    "\n",
    "class UnrecognisedRoleTypeError(Exception):\n",
    "    pass\n",
    "\n",
    "def update_db(\n",
    "    q: str = None,\n",
    "    db_name: str = 'ChoreTracker.sqlite3',\n",
    "    commit: bool = True\n",
    "    ):\n",
    "        conn = sqlite3.connect(db_name) \n",
    "        cursor = conn.cursor()\n",
    "        r = cursor.execute(q)\n",
    "        if commit:\n",
    "            conn.commit()\n",
    "        conn.close()\n",
    "        return r\n",
    "\n",
    "def query_db(\n",
    "    q: str = None,\n",
    "    db_name: str = 'ChoreTracker.sqlite3',\n",
    "    ):\n",
    "        conn = sqlite3.connect(db_name) \n",
    "        cursor = conn.cursor()\n",
    "        r = cursor.execute(q).fetchall()\n",
    "        cols = [c[0] for c in cursor.description]\n",
    "        conn.close()\n",
    "        return pd.DataFrame(columns=cols, data=r)\n"
   ]
  },
  {
   "cell_type": "code",
   "execution_count": 92,
   "metadata": {},
   "outputs": [],
   "source": [
    "reset = False"
   ]
  },
  {
   "cell_type": "code",
   "execution_count": 90,
   "metadata": {},
   "outputs": [],
   "source": [
    "# set up the database\n",
    "conn = sqlite3.connect('ChoreTracker.sqlite3')\n",
    "cursor = conn.cursor()\n",
    "tables = [t[0] for t in cursor.execute(\"\"\" SELECT name FROM sqlite_schema WHERE type='table' ORDER BY name;  \"\"\").fetchall()]"
   ]
  },
  {
   "cell_type": "code",
   "execution_count": 91,
   "metadata": {},
   "outputs": [
    {
     "data": {
      "text/plain": [
       "['choreinstances',\n",
       " 'chorerates',\n",
       " 'choreresponsibilities',\n",
       " 'chores',\n",
       " 'credentials',\n",
       " 'people',\n",
       " 'roles',\n",
       " 'sqlite_sequence']"
      ]
     },
     "execution_count": 91,
     "metadata": {},
     "output_type": "execute_result"
    }
   ],
   "source": [
    "tables"
   ]
  },
  {
   "cell_type": "code",
   "execution_count": 194,
   "metadata": {},
   "outputs": [],
   "source": [
    "# Setting up the data model\n",
    "reset=False\n",
    "if reset:\n",
    "    r = cursor.execute(\"\"\"\n",
    "        drop table if exists chores    \n",
    "        \"\"\")\n",
    "r = cursor.execute(\"\"\"\n",
    "create table if not exists chores (\n",
    "    ChoreID integer primary key AUTOINCREMENT,\n",
    "    name text, \n",
    "    schedule text, -- how frequently does this chore happen (in days)?\n",
    "    start_date text, -- when is the first day that this chore applies?\n",
    "    start_time text, -- what time of day does the chore window open?\n",
    "    window text, -- how many hours before the chore needs to be finished? \n",
    "    repeats INTEGER, -- boolean to say whether this chore sould repeat or not\n",
    "    active INTEGER -- boolean, is chore active?\n",
    "    );\n",
    "\"\"\")\n"
   ]
  },
  {
   "cell_type": "code",
   "execution_count": 195,
   "metadata": {},
   "outputs": [],
   "source": [
    "class NoChoreNameSuppliedError(Exception):\n",
    "    pass\n",
    "\n",
    "class NoChoreIdSuppliedError(Exception):\n",
    "    pass\n",
    "\n",
    "class NoStartDateSuppliedError(Exception):\n",
    "    pass\n",
    "\n",
    "class NoStartTimeSuppliedError(Exception):\n",
    "    pass\n",
    "\n",
    "class IncorrectTimeWindowFormatError(Exception):\n",
    "    pass\n",
    "\n",
    "def create_chore(\n",
    "    name: str = None,\n",
    "    schedule: str = '1D',\n",
    "    start_date: dt.date = dt.date.today(),\n",
    "    start_time: dt.time = dt.time(7),\n",
    "    window: str = '4H',\n",
    "    repeats: bool = True,\n",
    "    active: bool = True,\n",
    "):\n",
    "    if name is None:\n",
    "        raise NoChoreNameSuppliedError\n",
    "    if start_date is None:\n",
    "        raise NoStartDateSuppliedError\n",
    "    if start_time is None:\n",
    "        raise NoStartTimeSuppliedError\n",
    "    \n",
    "    if not re.match(r'\\d+[YWDMH]', schedule):\n",
    "        raise IncorrectTimeWindowFormatError\n",
    "\n",
    "    if not re.match(r'\\d+[YWDMH]', window):\n",
    "        raise IncorrectTimeWindowFormatError\n",
    "\n",
    "    update_db(f\"\"\"\n",
    "        INSERT INTO chores \n",
    "        (name, schedule, start_date, start_time, window, repeats, active)\n",
    "        VALUES\n",
    "        ('{name}', '{schedule}', '{start_date}', '{start_time}', '{window}', {repeats}, {active})\n",
    "        \"\"\")\n",
    "    \n",
    "    return True\n",
    "\n",
    "def delete_chore(choreid:int = None):\n",
    "    if choreid is None:\n",
    "        raise NoChoreIdSuppliedError\n",
    "\n",
    "    update_db(f\"\"\"\n",
    "        delete from chores where ChoreID = {choreid}\n",
    "    \"\"\")\n",
    "    return True\n",
    "\n",
    "def get_chores():\n",
    "    return query_db(q=\"\"\"\n",
    "        SELECT * FROM chores\n",
    "    \"\"\")"
   ]
  },
  {
   "cell_type": "code",
   "execution_count": 204,
   "metadata": {},
   "outputs": [
    {
     "data": {
      "text/plain": [
       "True"
      ]
     },
     "execution_count": 204,
     "metadata": {},
     "output_type": "execute_result"
    }
   ],
   "source": [
    "if False: \n",
    "    create_chore(\n",
    "    name='Two day today inactive test', \n",
    "    schedule='2D', \n",
    "    start_date=dt.date.today()-dt.timedelta(days=0), \n",
    "    repeats=True,\n",
    "    active=False)"
   ]
  },
  {
   "cell_type": "code",
   "execution_count": 186,
   "metadata": {},
   "outputs": [
    {
     "data": {
      "text/plain": [
       "True"
      ]
     },
     "execution_count": 186,
     "metadata": {},
     "output_type": "execute_result"
    }
   ],
   "source": [
    "# delete_chore(choreid=6)"
   ]
  },
  {
   "cell_type": "code",
   "execution_count": 342,
   "metadata": {},
   "outputs": [
    {
     "data": {
      "text/html": [
       "<div>\n",
       "<style scoped>\n",
       "    .dataframe tbody tr th:only-of-type {\n",
       "        vertical-align: middle;\n",
       "    }\n",
       "\n",
       "    .dataframe tbody tr th {\n",
       "        vertical-align: top;\n",
       "    }\n",
       "\n",
       "    .dataframe thead th {\n",
       "        text-align: right;\n",
       "    }\n",
       "</style>\n",
       "<table border=\"1\" class=\"dataframe\">\n",
       "  <thead>\n",
       "    <tr style=\"text-align: right;\">\n",
       "      <th></th>\n",
       "      <th>ChoreID</th>\n",
       "      <th>name</th>\n",
       "      <th>schedule</th>\n",
       "      <th>start_date</th>\n",
       "      <th>start_time</th>\n",
       "      <th>window</th>\n",
       "      <th>repeats</th>\n",
       "      <th>active</th>\n",
       "    </tr>\n",
       "  </thead>\n",
       "  <tbody>\n",
       "    <tr>\n",
       "      <th>0</th>\n",
       "      <td>1</td>\n",
       "      <td>Two week test</td>\n",
       "      <td>1W</td>\n",
       "      <td>2023-01-05</td>\n",
       "      <td>07:00:00</td>\n",
       "      <td>4H</td>\n",
       "      <td>1</td>\n",
       "      <td>1</td>\n",
       "    </tr>\n",
       "    <tr>\n",
       "      <th>1</th>\n",
       "      <td>2</td>\n",
       "      <td>One week test</td>\n",
       "      <td>1W</td>\n",
       "      <td>2023-01-12</td>\n",
       "      <td>07:00:00</td>\n",
       "      <td>4H</td>\n",
       "      <td>1</td>\n",
       "      <td>1</td>\n",
       "    </tr>\n",
       "    <tr>\n",
       "      <th>2</th>\n",
       "      <td>3</td>\n",
       "      <td>Today test</td>\n",
       "      <td>1W</td>\n",
       "      <td>2023-01-19</td>\n",
       "      <td>07:00:00</td>\n",
       "      <td>4H</td>\n",
       "      <td>1</td>\n",
       "      <td>1</td>\n",
       "    </tr>\n",
       "    <tr>\n",
       "      <th>3</th>\n",
       "      <td>4</td>\n",
       "      <td>Two day yesterday test</td>\n",
       "      <td>2D</td>\n",
       "      <td>2023-01-18</td>\n",
       "      <td>07:00:00</td>\n",
       "      <td>4H</td>\n",
       "      <td>1</td>\n",
       "      <td>1</td>\n",
       "    </tr>\n",
       "    <tr>\n",
       "      <th>4</th>\n",
       "      <td>5</td>\n",
       "      <td>Two day today test</td>\n",
       "      <td>2D</td>\n",
       "      <td>2023-01-19</td>\n",
       "      <td>07:00:00</td>\n",
       "      <td>4H</td>\n",
       "      <td>1</td>\n",
       "      <td>1</td>\n",
       "    </tr>\n",
       "    <tr>\n",
       "      <th>5</th>\n",
       "      <td>6</td>\n",
       "      <td>Two day today inactive test</td>\n",
       "      <td>2D</td>\n",
       "      <td>2023-01-19</td>\n",
       "      <td>07:00:00</td>\n",
       "      <td>4H</td>\n",
       "      <td>1</td>\n",
       "      <td>0</td>\n",
       "    </tr>\n",
       "  </tbody>\n",
       "</table>\n",
       "</div>"
      ],
      "text/plain": [
       "   ChoreID                         name schedule  start_date start_time  \\\n",
       "0        1                Two week test       1W  2023-01-05   07:00:00   \n",
       "1        2                One week test       1W  2023-01-12   07:00:00   \n",
       "2        3                   Today test       1W  2023-01-19   07:00:00   \n",
       "3        4       Two day yesterday test       2D  2023-01-18   07:00:00   \n",
       "4        5           Two day today test       2D  2023-01-19   07:00:00   \n",
       "5        6  Two day today inactive test       2D  2023-01-19   07:00:00   \n",
       "\n",
       "  window  repeats  active  \n",
       "0     4H        1       1  \n",
       "1     4H        1       1  \n",
       "2     4H        1       1  \n",
       "3     4H        1       1  \n",
       "4     4H        1       1  \n",
       "5     4H        1       0  "
      ]
     },
     "execution_count": 342,
     "metadata": {},
     "output_type": "execute_result"
    }
   ],
   "source": [
    "get_chores()"
   ]
  },
  {
   "cell_type": "code",
   "execution_count": 343,
   "metadata": {},
   "outputs": [
    {
     "data": {
      "text/plain": [
       "False"
      ]
     },
     "execution_count": 343,
     "metadata": {},
     "output_type": "execute_result"
    }
   ],
   "source": [
    "reset"
   ]
  },
  {
   "cell_type": "code",
   "execution_count": 344,
   "metadata": {},
   "outputs": [],
   "source": [
    "if reset:\n",
    "    r = cursor.execute(\"\"\"\n",
    "    drop table roles;\n",
    "    \"\"\")\n",
    "    \n",
    "r = cursor.execute(\"\"\"\n",
    "create table if not exists roles (\n",
    "    RoleID integer primary key AUTOINCREMENT,\n",
    "    RoleName text UNIQUE -- parent or child\n",
    "    );\n",
    "\"\"\")\n",
    "\n",
    "if reset:\n",
    "    for role in ['Parent', 'Child']:\n",
    "        r = cursor.execute(f\"\"\"\n",
    "            INSERT INTO roles (RoleName) VALUES ('{role}');\n",
    "        \"\"\")\n",
    "\n",
    "conn.commit()"
   ]
  },
  {
   "cell_type": "code",
   "execution_count": 349,
   "metadata": {},
   "outputs": [
    {
     "data": {
      "text/plain": [
       "{'Parent': 2, 'Child': 3}"
      ]
     },
     "execution_count": 349,
     "metadata": {},
     "output_type": "execute_result"
    }
   ],
   "source": [
    "roles = query_db(\"\"\" select * from roles \"\"\") # .fetchall()\n",
    "dict(zip(roles['RoleName'], roles['RoleID']))\n",
    "# role_ids = dict([(dict(roles)[k], k) for k in dict(roles)])\n",
    "# role_ids"
   ]
  },
  {
   "cell_type": "code",
   "execution_count": 51,
   "metadata": {},
   "outputs": [],
   "source": [
    "if reset:\n",
    "    r = cursor.execute(\"\"\" drop table people \"\"\")"
   ]
  },
  {
   "cell_type": "code",
   "execution_count": 49,
   "metadata": {},
   "outputs": [],
   "source": [
    "# Keep track of individuals so chores can be assigned to them\n",
    "r = cursor.execute(\"\"\"\n",
    "create table if not exists people (\n",
    "    PersonID integer primary key AUTOINCREMENT,\n",
    "    PersonName text, \n",
    "    RoleID INTEGER, -- whether person is parent or child\n",
    "    CurrentBalance INTEGER -- balance in pence, display number/100 for proper currency\n",
    "    );\n",
    "\"\"\")\n"
   ]
  },
  {
   "cell_type": "code",
   "execution_count": 146,
   "metadata": {},
   "outputs": [],
   "source": [
    "\n",
    "def create_person(PersonName: str = None, RoleType: str = None, CurrentBalance: int = 0):\n",
    "    if not RoleType in role_ids:\n",
    "        raise UnrecognisedRoleTypeError\n",
    "\n",
    "    r = update_db(q=f\"\"\"\n",
    "            INSERT INTO people (PersonName, RoleID, CurrentBalance) VALUES ('{PersonName}', {role_ids[RoleType]}, {CurrentBalance});\n",
    "        \"\"\", commit=True)\n",
    "    return True"
   ]
  },
  {
   "cell_type": "code",
   "execution_count": 209,
   "metadata": {},
   "outputs": [],
   "source": [
    "def get_people():\n",
    "    return query_db(q=\"\"\"\n",
    "        select * from people\n",
    "    \"\"\")"
   ]
  },
  {
   "cell_type": "code",
   "execution_count": 211,
   "metadata": {},
   "outputs": [
    {
     "data": {
      "text/plain": [
       "True"
      ]
     },
     "execution_count": 211,
     "metadata": {},
     "output_type": "execute_result"
    }
   ],
   "source": [
    "create_person(\n",
    "    PersonName='Lottie',\n",
    "    RoleType='Child'\n",
    ")"
   ]
  },
  {
   "cell_type": "code",
   "execution_count": 212,
   "metadata": {},
   "outputs": [
    {
     "data": {
      "text/html": [
       "<div>\n",
       "<style scoped>\n",
       "    .dataframe tbody tr th:only-of-type {\n",
       "        vertical-align: middle;\n",
       "    }\n",
       "\n",
       "    .dataframe tbody tr th {\n",
       "        vertical-align: top;\n",
       "    }\n",
       "\n",
       "    .dataframe thead th {\n",
       "        text-align: right;\n",
       "    }\n",
       "</style>\n",
       "<table border=\"1\" class=\"dataframe\">\n",
       "  <thead>\n",
       "    <tr style=\"text-align: right;\">\n",
       "      <th></th>\n",
       "      <th>PersonID</th>\n",
       "      <th>PersonName</th>\n",
       "      <th>RoleID</th>\n",
       "      <th>CurrentBalance</th>\n",
       "    </tr>\n",
       "  </thead>\n",
       "  <tbody>\n",
       "    <tr>\n",
       "      <th>0</th>\n",
       "      <td>1</td>\n",
       "      <td>Mike</td>\n",
       "      <td>2</td>\n",
       "      <td>0</td>\n",
       "    </tr>\n",
       "    <tr>\n",
       "      <th>1</th>\n",
       "      <td>2</td>\n",
       "      <td>Michelle</td>\n",
       "      <td>2</td>\n",
       "      <td>0</td>\n",
       "    </tr>\n",
       "    <tr>\n",
       "      <th>2</th>\n",
       "      <td>3</td>\n",
       "      <td>Jake</td>\n",
       "      <td>3</td>\n",
       "      <td>0</td>\n",
       "    </tr>\n",
       "    <tr>\n",
       "      <th>3</th>\n",
       "      <td>4</td>\n",
       "      <td>Lottie</td>\n",
       "      <td>3</td>\n",
       "      <td>0</td>\n",
       "    </tr>\n",
       "  </tbody>\n",
       "</table>\n",
       "</div>"
      ],
      "text/plain": [
       "   PersonID PersonName  RoleID  CurrentBalance\n",
       "0         1       Mike       2               0\n",
       "1         2   Michelle       2               0\n",
       "2         3       Jake       3               0\n",
       "3         4     Lottie       3               0"
      ]
     },
     "execution_count": 212,
     "metadata": {},
     "output_type": "execute_result"
    }
   ],
   "source": [
    "people_cols, people_data = get_people()\n",
    "pd.DataFrame(columns=people_cols, data=people_data)"
   ]
  },
  {
   "cell_type": "code",
   "execution_count": 444,
   "metadata": {},
   "outputs": [],
   "source": [
    "reset = False\n",
    "if reset:\n",
    "    r = cursor.execute(\"\"\"\n",
    "        drop table if exists choreinstances\n",
    "    \"\"\")    \n",
    "# We're going to have a daily scheduled process to calculate the day's chores, and pop them in this table\n",
    "# so we can track whether repeated chores are carried out \n",
    "r = cursor.execute(\"\"\"\n",
    "create table if not exists choreinstances (\n",
    "    ChoreInstanceID integer primary key,\n",
    "    ChoreID INTEGER, \n",
    "    ChoreDate TEXT, -- the date the chore was due\n",
    "    Completed INTEGER, -- Boolean\n",
    "    CompletedBy INTEGER, -- this will store PersonID of whoever completed it\n",
    "    Validated INTEGER, -- has it been checked by a parent?\n",
    "    Rate INTEGER, -- chore rate when it was completed\n",
    "    Banked INTEGER, -- has it been paid into the bank account?\n",
    "    BankedDate TEXT -- when was it registered as paid?\n",
    "    );\n",
    "\"\"\")\n"
   ]
  },
  {
   "cell_type": "code",
   "execution_count": 445,
   "metadata": {},
   "outputs": [],
   "source": [
    "def get_chore_instances():\n",
    "    return query_db(\"\"\"\n",
    "        select * from choreinstances\n",
    "    \"\"\")"
   ]
  },
  {
   "cell_type": "code",
   "execution_count": 446,
   "metadata": {},
   "outputs": [
    {
     "data": {
      "text/html": [
       "<div>\n",
       "<style scoped>\n",
       "    .dataframe tbody tr th:only-of-type {\n",
       "        vertical-align: middle;\n",
       "    }\n",
       "\n",
       "    .dataframe tbody tr th {\n",
       "        vertical-align: top;\n",
       "    }\n",
       "\n",
       "    .dataframe thead th {\n",
       "        text-align: right;\n",
       "    }\n",
       "</style>\n",
       "<table border=\"1\" class=\"dataframe\">\n",
       "  <thead>\n",
       "    <tr style=\"text-align: right;\">\n",
       "      <th></th>\n",
       "      <th>ChoreInstanceID</th>\n",
       "      <th>ChoreID</th>\n",
       "      <th>ChoreDate</th>\n",
       "      <th>Completed</th>\n",
       "      <th>CompletedBy</th>\n",
       "      <th>Validated</th>\n",
       "      <th>Rate</th>\n",
       "      <th>Banked</th>\n",
       "      <th>BankedDate</th>\n",
       "    </tr>\n",
       "  </thead>\n",
       "  <tbody>\n",
       "  </tbody>\n",
       "</table>\n",
       "</div>"
      ],
      "text/plain": [
       "Empty DataFrame\n",
       "Columns: [ChoreInstanceID, ChoreID, ChoreDate, Completed, CompletedBy, Validated, Rate, Banked, BankedDate]\n",
       "Index: []"
      ]
     },
     "execution_count": 446,
     "metadata": {},
     "output_type": "execute_result"
    }
   ],
   "source": [
    "get_chore_instances()"
   ]
  },
  {
   "cell_type": "code",
   "execution_count": 447,
   "metadata": {},
   "outputs": [],
   "source": [
    "def check_if_active(row: pd.Series) -> bool:\n",
    "    retval = False\n",
    "    test_date = pd.to_datetime(row['start_date']).date()\n",
    "\n",
    "    if test_date == dt.date.today():\n",
    "        retval = True\n",
    "\n",
    "    elif row['repeats']:\n",
    "        freq, unit = re.findall(r'(\\d+)(\\w)', row['schedule'])[0]\n",
    "        if not isinstance(freq, int):\n",
    "            freq=int(freq)\n",
    "        # YMWDH\n",
    "        if unit == 'H':\n",
    "            interval = dt.timedelta(hours=freq)\n",
    "        if unit == 'D':\n",
    "            interval = dt.timedelta(days=freq)\n",
    "        if unit == 'W':\n",
    "            interval = dt.timedelta(days=freq * 7)\n",
    "        if unit == 'M':\n",
    "            # timedelta doens't do months, need\n",
    "            # to handle this better\n",
    "            interval = dt.timedelta(days=freq * 30)\n",
    "        if unit == 'Y':\n",
    "            interval = dt.timedelta(days=freq * 365)\n",
    "        \n",
    "        while test_date < dt.date.today():\n",
    "            test_date += interval\n",
    "            if test_date == dt.date.today():\n",
    "                retval = True\n",
    "                test_date = dt.date.today() + dt.timedelta(days=1)\n",
    "                break\n",
    "\n",
    "\n",
    "    return retval"
   ]
  },
  {
   "cell_type": "code",
   "execution_count": 448,
   "metadata": {},
   "outputs": [],
   "source": [
    "def get_active_chores(\n",
    "    chore_date: dt.date = None\n",
    "):\n",
    "    if chore_date is None:\n",
    "        chore_date = dt.date.today()\n",
    "    chore_df = query_db(\n",
    "        \"\"\" SELECT * FROM chores where active = 1 \"\"\"\n",
    "    )\n",
    "    chore_df['ActiveToday'] = chore_df.apply(check_if_active, axis=1)\n",
    "    return chore_df[chore_df['ActiveToday'] == True]"
   ]
  },
  {
   "cell_type": "code",
   "execution_count": 449,
   "metadata": {},
   "outputs": [],
   "source": [
    "# create_chore(name='One year test', schedule='1Y', start_date=dt.date.today()-dt.timedelta(days=365), repeats=True)"
   ]
  },
  {
   "cell_type": "code",
   "execution_count": 450,
   "metadata": {},
   "outputs": [],
   "source": [
    "def update_choreinstances(\n",
    "    chore_date: dt.datetime = None\n",
    "):\n",
    "    if chore_date is None:\n",
    "        chore_date = dt.datetime.now()\n",
    "    active_chores = get_active_chores(chore_date.date)\n",
    "    update_db(f\"\"\"\n",
    "        delete from choreinstances where date(ChoreDate)=date('{chore_date}')\n",
    "    \"\"\")\n",
    "    chore_rate = get_chore_rate(chore_date)\n",
    "    # ['ChoreInstanceID',\n",
    "    #  'ChoreID',\n",
    "    #  'ChoreDate',\n",
    "    #  'Completed',\n",
    "    #  'CompletedBy',\n",
    "    #  'Validated',\n",
    "    #  'Rate',\n",
    "    #  'Banked']\n",
    "    completed = False\n",
    "    validated = False\n",
    "    banked = False\n",
    "    for ChoreID in active_chores['ChoreID'].values:\n",
    "        update_db(f\"\"\"\n",
    "            INSERT INTO choreinstances \n",
    "            (ChoreID, ChoreDate, Completed, Validated, Rate, Banked)\n",
    "            VALUES \n",
    "            ({ChoreID}, '{chore_date.date()}', {completed}, {validated}, {chore_rate}, {banked})\n",
    "        \"\"\")\n",
    "        \n"
   ]
  },
  {
   "cell_type": "code",
   "execution_count": 465,
   "metadata": {},
   "outputs": [],
   "source": [
    "update_choreinstances()"
   ]
  },
  {
   "cell_type": "code",
   "execution_count": 466,
   "metadata": {},
   "outputs": [
    {
     "data": {
      "text/html": [
       "<div>\n",
       "<style scoped>\n",
       "    .dataframe tbody tr th:only-of-type {\n",
       "        vertical-align: middle;\n",
       "    }\n",
       "\n",
       "    .dataframe tbody tr th {\n",
       "        vertical-align: top;\n",
       "    }\n",
       "\n",
       "    .dataframe thead th {\n",
       "        text-align: right;\n",
       "    }\n",
       "</style>\n",
       "<table border=\"1\" class=\"dataframe\">\n",
       "  <thead>\n",
       "    <tr style=\"text-align: right;\">\n",
       "      <th></th>\n",
       "      <th>ChoreInstanceID</th>\n",
       "      <th>ChoreID</th>\n",
       "      <th>ChoreDate</th>\n",
       "      <th>Completed</th>\n",
       "      <th>CompletedBy</th>\n",
       "      <th>Validated</th>\n",
       "      <th>Rate</th>\n",
       "      <th>Banked</th>\n",
       "      <th>BankedDate</th>\n",
       "    </tr>\n",
       "  </thead>\n",
       "  <tbody>\n",
       "    <tr>\n",
       "      <th>0</th>\n",
       "      <td>1</td>\n",
       "      <td>1</td>\n",
       "      <td>2023-01-19</td>\n",
       "      <td>0</td>\n",
       "      <td>None</td>\n",
       "      <td>0</td>\n",
       "      <td>45</td>\n",
       "      <td>0</td>\n",
       "      <td>None</td>\n",
       "    </tr>\n",
       "    <tr>\n",
       "      <th>1</th>\n",
       "      <td>2</td>\n",
       "      <td>2</td>\n",
       "      <td>2023-01-19</td>\n",
       "      <td>0</td>\n",
       "      <td>None</td>\n",
       "      <td>0</td>\n",
       "      <td>45</td>\n",
       "      <td>0</td>\n",
       "      <td>None</td>\n",
       "    </tr>\n",
       "    <tr>\n",
       "      <th>2</th>\n",
       "      <td>3</td>\n",
       "      <td>3</td>\n",
       "      <td>2023-01-19</td>\n",
       "      <td>0</td>\n",
       "      <td>None</td>\n",
       "      <td>0</td>\n",
       "      <td>45</td>\n",
       "      <td>0</td>\n",
       "      <td>None</td>\n",
       "    </tr>\n",
       "    <tr>\n",
       "      <th>3</th>\n",
       "      <td>4</td>\n",
       "      <td>5</td>\n",
       "      <td>2023-01-19</td>\n",
       "      <td>0</td>\n",
       "      <td>None</td>\n",
       "      <td>0</td>\n",
       "      <td>45</td>\n",
       "      <td>0</td>\n",
       "      <td>None</td>\n",
       "    </tr>\n",
       "  </tbody>\n",
       "</table>\n",
       "</div>"
      ],
      "text/plain": [
       "   ChoreInstanceID  ChoreID   ChoreDate  Completed CompletedBy  Validated  \\\n",
       "0                1        1  2023-01-19          0        None          0   \n",
       "1                2        2  2023-01-19          0        None          0   \n",
       "2                3        3  2023-01-19          0        None          0   \n",
       "3                4        5  2023-01-19          0        None          0   \n",
       "\n",
       "   Rate  Banked BankedDate  \n",
       "0    45       0       None  \n",
       "1    45       0       None  \n",
       "2    45       0       None  \n",
       "3    45       0       None  "
      ]
     },
     "execution_count": 466,
     "metadata": {},
     "output_type": "execute_result"
    }
   ],
   "source": [
    "get_chore_instances()"
   ]
  },
  {
   "cell_type": "code",
   "execution_count": 467,
   "metadata": {},
   "outputs": [],
   "source": [
    "\n",
    "# Who is responsible for each chore?\n",
    "# More than one person can be responsible, so we have to be \n",
    "# able to track whether a multi-person chore has been completed and by whom\n",
    "r = cursor.execute(\"\"\"\n",
    "create table if not exists choreresponsibilities (\n",
    "    ResponsibilityID integer primary key,\n",
    "    PersonID INTEGER, \n",
    "    ChoreID INTEGER\n",
    "    );\n",
    "\"\"\")\n"
   ]
  },
  {
   "cell_type": "code",
   "execution_count": 468,
   "metadata": {},
   "outputs": [],
   "source": [
    "class UnrecognisedChoreIDError(Exception):\n",
    "    pass\n",
    "\n",
    "class UnrecognisedPersonIDError(Exception):\n",
    "    pass\n",
    "\n",
    "\n",
    "def set_responsibility(\n",
    "    ChoreID: int = None,\n",
    "    PersonID: int = None,\n",
    "):\n",
    "    if not ChoreID in get_chores()['ChoreID'].values:\n",
    "        raise UnrecognisedChoreIDError\n",
    "        \n",
    "    if not PersonID in get_people()['PersonID'].values:\n",
    "        raise UnrecognisedPersonIDError\n",
    "        \n",
    "    update_db(f\"\"\" \n",
    "        delete from choreresponsibilities \n",
    "        where \n",
    "        PersonID = {PersonID}\n",
    "        and\n",
    "        ChoreID = {ChoreID}\n",
    "    \"\"\")\n",
    "\n",
    "    update_db(f\"\"\" \n",
    "        INSERT INTO choreresponsibilities \n",
    "        (PersonID, ChoreID) \n",
    "        VALUES ({PersonID}, {ChoreID})\n",
    "    \"\"\")\n",
    "\n",
    "    return True\n",
    "\n",
    "def get_responsibilities():\n",
    "    return query_db(\"\"\" select * from choreresponsibilities \"\"\")\n",
    "    "
   ]
  },
  {
   "cell_type": "code",
   "execution_count": 469,
   "metadata": {},
   "outputs": [
    {
     "data": {
      "text/html": [
       "<div>\n",
       "<style scoped>\n",
       "    .dataframe tbody tr th:only-of-type {\n",
       "        vertical-align: middle;\n",
       "    }\n",
       "\n",
       "    .dataframe tbody tr th {\n",
       "        vertical-align: top;\n",
       "    }\n",
       "\n",
       "    .dataframe thead th {\n",
       "        text-align: right;\n",
       "    }\n",
       "</style>\n",
       "<table border=\"1\" class=\"dataframe\">\n",
       "  <thead>\n",
       "    <tr style=\"text-align: right;\">\n",
       "      <th></th>\n",
       "      <th>PersonID</th>\n",
       "      <th>PersonName</th>\n",
       "      <th>RoleID</th>\n",
       "      <th>CurrentBalance</th>\n",
       "    </tr>\n",
       "  </thead>\n",
       "  <tbody>\n",
       "    <tr>\n",
       "      <th>0</th>\n",
       "      <td>1</td>\n",
       "      <td>Mike</td>\n",
       "      <td>2</td>\n",
       "      <td>0</td>\n",
       "    </tr>\n",
       "    <tr>\n",
       "      <th>1</th>\n",
       "      <td>2</td>\n",
       "      <td>Michelle</td>\n",
       "      <td>2</td>\n",
       "      <td>0</td>\n",
       "    </tr>\n",
       "    <tr>\n",
       "      <th>2</th>\n",
       "      <td>3</td>\n",
       "      <td>Jake</td>\n",
       "      <td>3</td>\n",
       "      <td>0</td>\n",
       "    </tr>\n",
       "    <tr>\n",
       "      <th>3</th>\n",
       "      <td>4</td>\n",
       "      <td>Lottie</td>\n",
       "      <td>3</td>\n",
       "      <td>0</td>\n",
       "    </tr>\n",
       "  </tbody>\n",
       "</table>\n",
       "</div>"
      ],
      "text/plain": [
       "   PersonID PersonName  RoleID  CurrentBalance\n",
       "0         1       Mike       2               0\n",
       "1         2   Michelle       2               0\n",
       "2         3       Jake       3               0\n",
       "3         4     Lottie       3               0"
      ]
     },
     "execution_count": 469,
     "metadata": {},
     "output_type": "execute_result"
    }
   ],
   "source": [
    "get_people() # , get_chores()"
   ]
  },
  {
   "cell_type": "code",
   "execution_count": 470,
   "metadata": {},
   "outputs": [
    {
     "data": {
      "text/plain": [
       "True"
      ]
     },
     "execution_count": 470,
     "metadata": {},
     "output_type": "execute_result"
    }
   ],
   "source": [
    "set_responsibility(PersonID=4, ChoreID=1)"
   ]
  },
  {
   "cell_type": "code",
   "execution_count": 471,
   "metadata": {},
   "outputs": [
    {
     "data": {
      "text/html": [
       "<div>\n",
       "<style scoped>\n",
       "    .dataframe tbody tr th:only-of-type {\n",
       "        vertical-align: middle;\n",
       "    }\n",
       "\n",
       "    .dataframe tbody tr th {\n",
       "        vertical-align: top;\n",
       "    }\n",
       "\n",
       "    .dataframe thead th {\n",
       "        text-align: right;\n",
       "    }\n",
       "</style>\n",
       "<table border=\"1\" class=\"dataframe\">\n",
       "  <thead>\n",
       "    <tr style=\"text-align: right;\">\n",
       "      <th></th>\n",
       "      <th>ResponsibilityID</th>\n",
       "      <th>PersonID</th>\n",
       "      <th>ChoreID</th>\n",
       "    </tr>\n",
       "  </thead>\n",
       "  <tbody>\n",
       "    <tr>\n",
       "      <th>0</th>\n",
       "      <td>1</td>\n",
       "      <td>2</td>\n",
       "      <td>6</td>\n",
       "    </tr>\n",
       "    <tr>\n",
       "      <th>1</th>\n",
       "      <td>3</td>\n",
       "      <td>2</td>\n",
       "      <td>2</td>\n",
       "    </tr>\n",
       "    <tr>\n",
       "      <th>2</th>\n",
       "      <td>4</td>\n",
       "      <td>3</td>\n",
       "      <td>3</td>\n",
       "    </tr>\n",
       "    <tr>\n",
       "      <th>3</th>\n",
       "      <td>5</td>\n",
       "      <td>4</td>\n",
       "      <td>4</td>\n",
       "    </tr>\n",
       "    <tr>\n",
       "      <th>4</th>\n",
       "      <td>6</td>\n",
       "      <td>4</td>\n",
       "      <td>5</td>\n",
       "    </tr>\n",
       "    <tr>\n",
       "      <th>5</th>\n",
       "      <td>7</td>\n",
       "      <td>4</td>\n",
       "      <td>6</td>\n",
       "    </tr>\n",
       "    <tr>\n",
       "      <th>6</th>\n",
       "      <td>8</td>\n",
       "      <td>1</td>\n",
       "      <td>1</td>\n",
       "    </tr>\n",
       "    <tr>\n",
       "      <th>7</th>\n",
       "      <td>9</td>\n",
       "      <td>4</td>\n",
       "      <td>1</td>\n",
       "    </tr>\n",
       "  </tbody>\n",
       "</table>\n",
       "</div>"
      ],
      "text/plain": [
       "   ResponsibilityID  PersonID  ChoreID\n",
       "0                 1         2        6\n",
       "1                 3         2        2\n",
       "2                 4         3        3\n",
       "3                 5         4        4\n",
       "4                 6         4        5\n",
       "5                 7         4        6\n",
       "6                 8         1        1\n",
       "7                 9         4        1"
      ]
     },
     "execution_count": 471,
     "metadata": {},
     "output_type": "execute_result"
    }
   ],
   "source": [
    "get_responsibilities()"
   ]
  },
  {
   "cell_type": "code",
   "execution_count": 472,
   "metadata": {},
   "outputs": [
    {
     "data": {
      "text/html": [
       "<div>\n",
       "<style scoped>\n",
       "    .dataframe tbody tr th:only-of-type {\n",
       "        vertical-align: middle;\n",
       "    }\n",
       "\n",
       "    .dataframe tbody tr th {\n",
       "        vertical-align: top;\n",
       "    }\n",
       "\n",
       "    .dataframe thead th {\n",
       "        text-align: right;\n",
       "    }\n",
       "</style>\n",
       "<table border=\"1\" class=\"dataframe\">\n",
       "  <thead>\n",
       "    <tr style=\"text-align: right;\">\n",
       "      <th></th>\n",
       "      <th>ChoreID</th>\n",
       "      <th>ChoreInstanceID</th>\n",
       "      <th>name</th>\n",
       "      <th>PersonName</th>\n",
       "      <th>PersonID</th>\n",
       "      <th>Rate</th>\n",
       "      <th>Completed</th>\n",
       "      <th>CompletedBy</th>\n",
       "      <th>Validated</th>\n",
       "      <th>Banked</th>\n",
       "      <th>BankedDate</th>\n",
       "    </tr>\n",
       "  </thead>\n",
       "  <tbody>\n",
       "    <tr>\n",
       "      <th>0</th>\n",
       "      <td>3</td>\n",
       "      <td>3</td>\n",
       "      <td>Today test</td>\n",
       "      <td>Jake</td>\n",
       "      <td>3</td>\n",
       "      <td>45</td>\n",
       "      <td>0</td>\n",
       "      <td>None</td>\n",
       "      <td>0</td>\n",
       "      <td>0</td>\n",
       "      <td>None</td>\n",
       "    </tr>\n",
       "    <tr>\n",
       "      <th>1</th>\n",
       "      <td>1</td>\n",
       "      <td>1</td>\n",
       "      <td>Two week test</td>\n",
       "      <td>Lottie</td>\n",
       "      <td>4</td>\n",
       "      <td>45</td>\n",
       "      <td>0</td>\n",
       "      <td>None</td>\n",
       "      <td>0</td>\n",
       "      <td>0</td>\n",
       "      <td>None</td>\n",
       "    </tr>\n",
       "    <tr>\n",
       "      <th>2</th>\n",
       "      <td>5</td>\n",
       "      <td>4</td>\n",
       "      <td>Two day today test</td>\n",
       "      <td>Lottie</td>\n",
       "      <td>4</td>\n",
       "      <td>45</td>\n",
       "      <td>0</td>\n",
       "      <td>None</td>\n",
       "      <td>0</td>\n",
       "      <td>0</td>\n",
       "      <td>None</td>\n",
       "    </tr>\n",
       "    <tr>\n",
       "      <th>3</th>\n",
       "      <td>2</td>\n",
       "      <td>2</td>\n",
       "      <td>One week test</td>\n",
       "      <td>Michelle</td>\n",
       "      <td>2</td>\n",
       "      <td>45</td>\n",
       "      <td>0</td>\n",
       "      <td>None</td>\n",
       "      <td>0</td>\n",
       "      <td>0</td>\n",
       "      <td>None</td>\n",
       "    </tr>\n",
       "    <tr>\n",
       "      <th>4</th>\n",
       "      <td>1</td>\n",
       "      <td>1</td>\n",
       "      <td>Two week test</td>\n",
       "      <td>Mike</td>\n",
       "      <td>1</td>\n",
       "      <td>45</td>\n",
       "      <td>0</td>\n",
       "      <td>None</td>\n",
       "      <td>0</td>\n",
       "      <td>0</td>\n",
       "      <td>None</td>\n",
       "    </tr>\n",
       "  </tbody>\n",
       "</table>\n",
       "</div>"
      ],
      "text/plain": [
       "   ChoreID  ChoreInstanceID                name PersonName  PersonID  Rate  \\\n",
       "0        3                3          Today test       Jake         3    45   \n",
       "1        1                1       Two week test     Lottie         4    45   \n",
       "2        5                4  Two day today test     Lottie         4    45   \n",
       "3        2                2       One week test   Michelle         2    45   \n",
       "4        1                1       Two week test       Mike         1    45   \n",
       "\n",
       "   Completed CompletedBy  Validated  Banked BankedDate  \n",
       "0          0        None          0       0       None  \n",
       "1          0        None          0       0       None  \n",
       "2          0        None          0       0       None  \n",
       "3          0        None          0       0       None  \n",
       "4          0        None          0       0       None  "
      ]
     },
     "execution_count": 472,
     "metadata": {},
     "output_type": "execute_result"
    }
   ],
   "source": [
    "query_db(f\"\"\"\n",
    "    select  \n",
    "        i.Choreid,\n",
    "        i.Choreinstanceid,\n",
    "        c.name,\n",
    "        p.PersonName,\n",
    "        p.personid,\n",
    "        i.Rate,\n",
    "        i.Completed,\n",
    "        i.CompletedBy,\n",
    "        i.Validated,\n",
    "        i.Banked,\n",
    "        i.BankedDate\n",
    "    from choreinstances as i\n",
    "    join chores as c\n",
    "    on i.ChoreID = c.ChoreID\n",
    "    join\n",
    "    choreresponsibilities as r\n",
    "    on i.ChoreID = r.ChoreID\n",
    "    join\n",
    "    people as p\n",
    "    on p.PersonID = r.PersonID\n",
    "    where i.choredate = date('{chore_date}')\n",
    "    order by p.PersonName\n",
    "\"\"\")\n"
   ]
  },
  {
   "cell_type": "code",
   "execution_count": 473,
   "metadata": {},
   "outputs": [],
   "source": [
    "class NoPersonIdSuppliedError(Exception):\n",
    "    pass\n",
    "\n",
    "class NoChoreInstanceIdSuppliedError(Exception):\n",
    "    pass\n",
    "\n",
    "class ChoreNotCompletedError(Exception):\n",
    "    pass\n",
    "\n",
    "class UnrecognisedChoreInstanceIDError(Exception):\n",
    "    pass\n",
    "\n",
    "def complete_chore_instance(\n",
    "    chore_instance_id: int = None,\n",
    "    person_id: int = None,\n",
    "):\n",
    "    if person_id is None:\n",
    "        raise NoPersonIdSuppliedError\n",
    "\n",
    "    if chore_instance_id is None:\n",
    "        raise NoChoreInstanceIdSuppliedError\n",
    "\n",
    "\n",
    "    chore_instance_df = query_db(f\"\"\"\n",
    "        select * from choreinstances where choreinstanceid = {chore_instance_id} and Completed=0\n",
    "    \"\"\")\n",
    "\n",
    "    if not len(chore_instance_df) == 1:\n",
    "        # This is not a valid, incomplete chore\n",
    "        return False\n",
    "\n",
    "\n",
    "    person_df = query_db(f\"\"\" \n",
    "        select r.* from choreresponsibilities as r\n",
    "        join choreinstances as i\n",
    "        on r.choreid = i.choreid\n",
    "        where PersonId = {person_id} and i.choreinstanceid = {chore_instance_id}\n",
    "    \"\"\")\n",
    "\n",
    "    if not len(person_df) == 1:\n",
    "        # This isn't a valid person/chore combination\n",
    "        return False\n",
    "    \n",
    "    # We've established it's a valid, incomplete chore \n",
    "    # and the person is assigned to it, so they're allowed\n",
    "    # to complete it\n",
    "    update_db(f\"\"\"\n",
    "        UPDATE choreinstances SET Completed = 1, CompletedBy={person_id} where \n",
    "        Choreinstanceid = {chore_instance_id}\n",
    "    \"\"\")\n",
    "\n",
    "    return True\n",
    "\n",
    "    \n",
    "def uncomplete_chore_instance(\n",
    "    chore_instance_id: int = None,\n",
    "):\n",
    "\n",
    "    if chore_instance_id is None:\n",
    "        raise NoChoreInstanceIdSuppliedError\n",
    "\n",
    "    update_db(f\"\"\"\n",
    "        UPDATE choreinstances SET Completed = 0, Validated=0, Banked=0, CompletedBy=NULL where \n",
    "        Choreinstanceid = {chore_instance_id}\n",
    "    \"\"\")\n",
    "\n",
    "    return True\n",
    "\n",
    "   \n",
    "def invalidate_chore_instance(\n",
    "    chore_instance_id: int = None,\n",
    "):\n",
    "\n",
    "    if chore_instance_id is None:\n",
    "        raise NoChoreInstanceIdSuppliedError\n",
    "\n",
    "    update_db(f\"\"\"\n",
    "        UPDATE choreinstances SET Validated=0 where \n",
    "        Choreinstanceid = {chore_instance_id}\n",
    "    \"\"\")\n",
    "\n",
    "    return True\n",
    "\n",
    "def validate_chore_instance(\n",
    "    chore_instance_id: int = None,\n",
    "):\n",
    "\n",
    "    if chore_instance_id is None:\n",
    "        raise NoChoreInstanceIdSuppliedError\n",
    "\n",
    "    chore_check = query_db(f\"\"\"\n",
    "        select Completed from choreinstances where choreinstanceid={chore_instance_id}\n",
    "        \"\"\")\n",
    "    if not len(chore_check) > 0:\n",
    "        raise UnrecognisedChoreInstanceIDError\n",
    "\n",
    "    if not chore_check['Completed'].values.max() == 1:\n",
    "        raise ChoreNotCompletedError\n",
    "\n",
    "    # Probably need to check it's been done \n",
    "    # and validate chore instance id\n",
    "    \n",
    "    update_db(f\"\"\"\n",
    "        UPDATE choreinstances SET Validated = 1\n",
    "        where \n",
    "        Choreinstanceid = {chore_instance_id}\n",
    "    \"\"\")\n",
    "\n",
    "    return True"
   ]
  },
  {
   "cell_type": "code",
   "execution_count": 480,
   "metadata": {},
   "outputs": [
    {
     "data": {
      "text/html": [
       "<div>\n",
       "<style scoped>\n",
       "    .dataframe tbody tr th:only-of-type {\n",
       "        vertical-align: middle;\n",
       "    }\n",
       "\n",
       "    .dataframe tbody tr th {\n",
       "        vertical-align: top;\n",
       "    }\n",
       "\n",
       "    .dataframe thead th {\n",
       "        text-align: right;\n",
       "    }\n",
       "</style>\n",
       "<table border=\"1\" class=\"dataframe\">\n",
       "  <thead>\n",
       "    <tr style=\"text-align: right;\">\n",
       "      <th></th>\n",
       "      <th>ChoreID</th>\n",
       "      <th>ChoreInstanceID</th>\n",
       "      <th>name</th>\n",
       "      <th>PersonName</th>\n",
       "      <th>PersonID</th>\n",
       "      <th>Rate</th>\n",
       "      <th>Completed</th>\n",
       "      <th>CompletedBy</th>\n",
       "      <th>Validated</th>\n",
       "      <th>Banked</th>\n",
       "      <th>BankedDate</th>\n",
       "    </tr>\n",
       "  </thead>\n",
       "  <tbody>\n",
       "    <tr>\n",
       "      <th>0</th>\n",
       "      <td>1</td>\n",
       "      <td>1</td>\n",
       "      <td>Two week test</td>\n",
       "      <td>Mike</td>\n",
       "      <td>1</td>\n",
       "      <td>45</td>\n",
       "      <td>1</td>\n",
       "      <td>1</td>\n",
       "      <td>1</td>\n",
       "      <td>1</td>\n",
       "      <td>2023-01-19</td>\n",
       "    </tr>\n",
       "  </tbody>\n",
       "</table>\n",
       "</div>"
      ],
      "text/plain": [
       "   ChoreID  ChoreInstanceID           name PersonName  PersonID  Rate  \\\n",
       "0        1                1  Two week test       Mike         1    45   \n",
       "\n",
       "   Completed  CompletedBy  Validated  Banked  BankedDate  \n",
       "0          1            1          1       1  2023-01-19  "
      ]
     },
     "execution_count": 480,
     "metadata": {},
     "output_type": "execute_result"
    }
   ],
   "source": [
    "query_db(f\"\"\"\n",
    "    select  \n",
    "        i.Choreid,\n",
    "        i.Choreinstanceid,\n",
    "        c.name,\n",
    "        p.PersonName,\n",
    "        p.personid,\n",
    "        i.Rate,\n",
    "        i.Completed,\n",
    "        i.CompletedBy,\n",
    "        i.Validated,\n",
    "        i.Banked,\n",
    "        i.BankedDate\n",
    "    from choreinstances as i\n",
    "    join chores as c\n",
    "    on i.ChoreID = c.ChoreID\n",
    "    join\n",
    "    choreresponsibilities as r\n",
    "    on i.ChoreID = r.ChoreID\n",
    "    join\n",
    "    people as p\n",
    "    on p.PersonID = r.PersonID\n",
    "    where i.Validated =1 -- and i.Banked=0\n",
    "    and i.CompletedBy = p.personId\n",
    "    order by p.PersonName\n",
    "\"\"\")"
   ]
  },
  {
   "cell_type": "code",
   "execution_count": 475,
   "metadata": {},
   "outputs": [],
   "source": [
    "def bank_owing_amounts(\n",
    "    person_id: int = None, \n",
    "    banked_date: dt.date = None\n",
    "    ):\n",
    "    # How do we roll this back if it's done by mistake?\n",
    "    # maybe set a banked date\n",
    "    if person_id is None:\n",
    "        raise NoPersonIdSuppliedError\n",
    "\n",
    "    if banked_date is None:\n",
    "        banked_date = dt.date.today()\n",
    "\n",
    "    update_db(f\"\"\"\n",
    "        update choreinstances set banked=1, bankeddate='{banked_date}'\n",
    "        where \n",
    "        completedby={person_id} and \n",
    "        validated = 1 and\n",
    "        banked = 0\n",
    "    \"\"\")\n",
    "\n",
    "    return True\n",
    "    "
   ]
  },
  {
   "cell_type": "code",
   "execution_count": 481,
   "metadata": {},
   "outputs": [],
   "source": [
    "conn.commit()\n",
    "conn.close()"
   ]
  },
  {
   "cell_type": "code",
   "execution_count": 479,
   "metadata": {},
   "outputs": [
    {
     "data": {
      "text/plain": [
       "True"
      ]
     },
     "execution_count": 479,
     "metadata": {},
     "output_type": "execute_result"
    }
   ],
   "source": [
    "bank_owing_amounts(person_id=1)"
   ]
  },
  {
   "cell_type": "code",
   "execution_count": 476,
   "metadata": {},
   "outputs": [
    {
     "data": {
      "text/plain": [
       "True"
      ]
     },
     "execution_count": 476,
     "metadata": {},
     "output_type": "execute_result"
    }
   ],
   "source": [
    "complete_chore_instance(chore_instance_id=1, person_id=1)"
   ]
  },
  {
   "cell_type": "code",
   "execution_count": 420,
   "metadata": {},
   "outputs": [
    {
     "data": {
      "text/plain": [
       "True"
      ]
     },
     "execution_count": 420,
     "metadata": {},
     "output_type": "execute_result"
    }
   ],
   "source": [
    "uncomplete_chore_instance(chore_instance_id=1)"
   ]
  },
  {
   "cell_type": "code",
   "execution_count": 477,
   "metadata": {},
   "outputs": [
    {
     "data": {
      "text/plain": [
       "True"
      ]
     },
     "execution_count": 477,
     "metadata": {},
     "output_type": "execute_result"
    }
   ],
   "source": [
    "validate_chore_instance(chore_instance_id=1)"
   ]
  },
  {
   "cell_type": "code",
   "execution_count": 425,
   "metadata": {},
   "outputs": [
    {
     "data": {
      "text/plain": [
       "True"
      ]
     },
     "execution_count": 425,
     "metadata": {},
     "output_type": "execute_result"
    }
   ],
   "source": [
    "invalidate_chore_instance(chore_instance_id=1)"
   ]
  },
  {
   "cell_type": "code",
   "execution_count": 102,
   "metadata": {},
   "outputs": [],
   "source": [
    "# What's the going rate for a chore these days?\n",
    "r = cursor.execute(\"\"\"\n",
    "create table if not exists chorerates (\n",
    "    RateID integer primary key,\n",
    "    ChoreRate INTEGER, -- amount in pence\n",
    "    StartDate TEXT -- when did the rate take effect?\n",
    "    );\n",
    "\"\"\")"
   ]
  },
  {
   "cell_type": "code",
   "execution_count": 116,
   "metadata": {},
   "outputs": [],
   "source": [
    "def update_chore_rate(ChoreRate: int = 25):\n",
    "    update_db(f\"\"\" \n",
    "        INSERT INTO chorerates \n",
    "        (Rate, StartDate) \n",
    "        VALUES ({ChoreRate}, '{dt.datetime.strftime(dt.datetime.now(), \"%Y-%m-%d %H:%M:%S\")}')\n",
    "        \"\"\")\n",
    "\n",
    "def get_chore_rates():\n",
    "    return query_db(\"\"\" SELECT * FROM chorerates\"\"\")"
   ]
  },
  {
   "cell_type": "code",
   "execution_count": 356,
   "metadata": {},
   "outputs": [],
   "source": [
    "def get_chore_rate(chore_date: dt.datetime = None):\n",
    "    if chore_date is None:\n",
    "        chore_date = dt.datetime.now()\n",
    "    return query_db(f\"\"\" \n",
    "        select Rate \n",
    "        from chorerates \n",
    "        join \n",
    "            (select max(datetime(StartDate)) as max_date from chorerates where datetime(StartDate) <= datetime('{chore_date}')) as m\n",
    "        where datetime(StartDate) = m.max_date\n",
    "        \"\"\")['Rate'].values.max()"
   ]
  },
  {
   "cell_type": "code",
   "execution_count": 357,
   "metadata": {},
   "outputs": [
    {
     "data": {
      "text/plain": [
       "25"
      ]
     },
     "execution_count": 357,
     "metadata": {},
     "output_type": "execute_result"
    }
   ],
   "source": [
    "get_chore_rate()"
   ]
  },
  {
   "cell_type": "code",
   "execution_count": 351,
   "metadata": {},
   "outputs": [
    {
     "data": {
      "text/html": [
       "<div>\n",
       "<style scoped>\n",
       "    .dataframe tbody tr th:only-of-type {\n",
       "        vertical-align: middle;\n",
       "    }\n",
       "\n",
       "    .dataframe tbody tr th {\n",
       "        vertical-align: top;\n",
       "    }\n",
       "\n",
       "    .dataframe thead th {\n",
       "        text-align: right;\n",
       "    }\n",
       "</style>\n",
       "<table border=\"1\" class=\"dataframe\">\n",
       "  <thead>\n",
       "    <tr style=\"text-align: right;\">\n",
       "      <th></th>\n",
       "      <th>RateID</th>\n",
       "      <th>Rate</th>\n",
       "      <th>StartDate</th>\n",
       "    </tr>\n",
       "  </thead>\n",
       "  <tbody>\n",
       "    <tr>\n",
       "      <th>0</th>\n",
       "      <td>1</td>\n",
       "      <td>25</td>\n",
       "      <td>2023-01-01</td>\n",
       "    </tr>\n",
       "    <tr>\n",
       "      <th>1</th>\n",
       "      <td>2</td>\n",
       "      <td>25</td>\n",
       "      <td>2023-01-01 19:39:00</td>\n",
       "    </tr>\n",
       "    <tr>\n",
       "      <th>2</th>\n",
       "      <td>3</td>\n",
       "      <td>30</td>\n",
       "      <td>2023-01-19 20:07:35</td>\n",
       "    </tr>\n",
       "    <tr>\n",
       "      <th>3</th>\n",
       "      <td>4</td>\n",
       "      <td>25</td>\n",
       "      <td>2023-01-19 20:07:59</td>\n",
       "    </tr>\n",
       "    <tr>\n",
       "      <th>4</th>\n",
       "      <td>5</td>\n",
       "      <td>35</td>\n",
       "      <td>2023-01-19 21:46:19</td>\n",
       "    </tr>\n",
       "    <tr>\n",
       "      <th>5</th>\n",
       "      <td>6</td>\n",
       "      <td>25</td>\n",
       "      <td>2023-01-19 21:47:35</td>\n",
       "    </tr>\n",
       "    <tr>\n",
       "      <th>6</th>\n",
       "      <td>7</td>\n",
       "      <td>35</td>\n",
       "      <td>2023-01-19 21:56:40</td>\n",
       "    </tr>\n",
       "    <tr>\n",
       "      <th>7</th>\n",
       "      <td>8</td>\n",
       "      <td>45</td>\n",
       "      <td>2023-01-19 21:57:13</td>\n",
       "    </tr>\n",
       "    <tr>\n",
       "      <th>8</th>\n",
       "      <td>9</td>\n",
       "      <td>55</td>\n",
       "      <td>2023-01-19 21:58:29</td>\n",
       "    </tr>\n",
       "    <tr>\n",
       "      <th>9</th>\n",
       "      <td>10</td>\n",
       "      <td>25</td>\n",
       "      <td>2023-01-19 21:58:38</td>\n",
       "    </tr>\n",
       "  </tbody>\n",
       "</table>\n",
       "</div>"
      ],
      "text/plain": [
       "   RateID  Rate            StartDate\n",
       "0       1    25           2023-01-01\n",
       "1       2    25  2023-01-01 19:39:00\n",
       "2       3    30  2023-01-19 20:07:35\n",
       "3       4    25  2023-01-19 20:07:59\n",
       "4       5    35  2023-01-19 21:46:19\n",
       "5       6    25  2023-01-19 21:47:35\n",
       "6       7    35  2023-01-19 21:56:40\n",
       "7       8    45  2023-01-19 21:57:13\n",
       "8       9    55  2023-01-19 21:58:29\n",
       "9      10    25  2023-01-19 21:58:38"
      ]
     },
     "execution_count": 351,
     "metadata": {},
     "output_type": "execute_result"
    }
   ],
   "source": [
    "get_chore_rates()"
   ]
  },
  {
   "cell_type": "code",
   "execution_count": 374,
   "metadata": {},
   "outputs": [],
   "source": [
    "update_chore_rate(ChoreRate=45)"
   ]
  },
  {
   "cell_type": "code",
   "execution_count": 66,
   "metadata": {},
   "outputs": [],
   "source": [
    "\n",
    "# Need to have some way of storing the parent passcode\n",
    "# and potentially change it.\n",
    "\n",
    "r = cursor.execute(\"\"\"\n",
    "create table if not exists credentials (\n",
    "    CredentialID integer primary key,\n",
    "    RoleID INTEGER, -- need one or both of these two\n",
    "    PersonID INTEGER, -- need one or both of these two\n",
    "    Passcode TEXT -- this should possibly be encrypted...\n",
    "    );\n",
    "\"\"\")"
   ]
  },
  {
   "cell_type": "code",
   "execution_count": null,
   "metadata": {},
   "outputs": [],
   "source": []
  }
 ],
 "metadata": {
  "kernelspec": {
   "display_name": "ChoreTracker",
   "language": "python",
   "name": "python3"
  },
  "language_info": {
   "codemirror_mode": {
    "name": "ipython",
    "version": 3
   },
   "file_extension": ".py",
   "mimetype": "text/x-python",
   "name": "python",
   "nbconvert_exporter": "python",
   "pygments_lexer": "ipython3",
   "version": "3.10.1 (tags/v3.10.1:2cd268a, Dec  6 2021, 19:10:37) [MSC v.1929 64 bit (AMD64)]"
  },
  "orig_nbformat": 4,
  "vscode": {
   "interpreter": {
    "hash": "9c10cf430ce861754ff4f9ec75d9fde65b41e97ba7d43094f3c02d2336b577f3"
   }
  }
 },
 "nbformat": 4,
 "nbformat_minor": 2
}
