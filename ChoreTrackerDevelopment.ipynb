{
 "cells": [
  {
   "cell_type": "code",
   "execution_count": 2,
   "metadata": {},
   "outputs": [],
   "source": [
    "import sqlite3"
   ]
  },
  {
   "cell_type": "code",
   "execution_count": 4,
   "metadata": {},
   "outputs": [],
   "source": [
    "# set up the database\n",
    "conn = sqlite3.connect('ChoreTracker.sqlite3')"
   ]
  },
  {
   "cell_type": "code",
   "execution_count": 5,
   "metadata": {},
   "outputs": [],
   "source": [
    "cursor = conn.cursor()"
   ]
  },
  {
   "cell_type": "code",
   "execution_count": 26,
   "metadata": {},
   "outputs": [],
   "source": [
    "r = cursor.execute(\"\"\" SELECT name FROM sqlite_schema WHERE type='table' ORDER BY name;  \"\"\").fetchall()"
   ]
  },
  {
   "cell_type": "code",
   "execution_count": 27,
   "metadata": {},
   "outputs": [
    {
     "data": {
      "text/plain": [
       "[('choreinstances',),\n",
       " ('choreresponsibilities',),\n",
       " ('chores',),\n",
       " ('credentials',),\n",
       " ('people',),\n",
       " ('roles',),\n",
       " ('sqlite_sequence',)]"
      ]
     },
     "execution_count": 27,
     "metadata": {},
     "output_type": "execute_result"
    }
   ],
   "source": [
    "r"
   ]
  },
  {
   "cell_type": "code",
   "execution_count": 12,
   "metadata": {},
   "outputs": [],
   "source": [
    "# Setting up the data model\n",
    "\n",
    "r = cursor.execute(\"\"\"\n",
    "create table if not exists chores (\n",
    "    ChoreID integer primary key AUTOINCREMENT,\n",
    "    name text, \n",
    "    schedule text, -- how frequently does this chore happen (in days)?\n",
    "    start_date text, -- when is the first day that this chore applies?\n",
    "    start_time text, -- what time of day does the chore window open?\n",
    "    window text, -- how many hours before the chore needs to be finished? \n",
    "    repeats INTEGER -- boolean to say whether this chore sould repeat or not\n",
    "    );\n",
    "\"\"\")\n"
   ]
  },
  {
   "cell_type": "code",
   "execution_count": 38,
   "metadata": {},
   "outputs": [],
   "source": [
    "reset = False\n",
    "if reset:\n",
    "    r = cursor.execute(\"\"\"\n",
    "    delete from roles;\n",
    "    \"\"\")\n",
    "    \n",
    "r = cursor.execute(\"\"\"\n",
    "create table if not exists roles (\n",
    "    RoleID integer primary key AUTOINCREMENT,\n",
    "    RoleName text UNIQUE -- parent or child\n",
    "    );\n",
    "\"\"\")\n",
    "\n",
    "if reset:\n",
    "    for role in ['Parent', 'Child']:\n",
    "        r = cursor.execute(f\"\"\"\n",
    "            INSERT INTO roles (RoleName) VALUES ('{role}');\n",
    "        \"\"\")\n",
    "\n",
    "conn.commit()"
   ]
  },
  {
   "cell_type": "code",
   "execution_count": 39,
   "metadata": {},
   "outputs": [
    {
     "data": {
      "text/plain": [
       "[(2, 'Parent'), (3, 'Child')]"
      ]
     },
     "execution_count": 39,
     "metadata": {},
     "output_type": "execute_result"
    }
   ],
   "source": [
    "roles = cursor.execute(\"\"\" select * from roles \"\"\").fetchall()\n",
    "roles"
   ]
  },
  {
   "cell_type": "code",
   "execution_count": 45,
   "metadata": {},
   "outputs": [],
   "source": [
    "role_ids = dict([(dict(roles)[k], k) for k in dict(roles)])"
   ]
  },
  {
   "cell_type": "code",
   "execution_count": 51,
   "metadata": {},
   "outputs": [],
   "source": [
    "if reset:\n",
    "    r = cursor.execute(\"\"\" drop table people \"\"\")"
   ]
  },
  {
   "cell_type": "code",
   "execution_count": 49,
   "metadata": {},
   "outputs": [],
   "source": [
    "# Keep track of individuals so chores can be assigned to them\n",
    "r = cursor.execute(\"\"\"\n",
    "create table if not exists people (\n",
    "    PersonID integer primary key AUTOINCREMENT,\n",
    "    PersonName text, \n",
    "    RoleID INTEGER, -- whether person is parent or child\n",
    "    CurrentBalance INTEGER -- balance in pence, display number/100 for proper currency\n",
    "    );\n",
    "\"\"\")\n",
    "\n",
    "\n",
    "r = cursor.execute(f\"\"\"\n",
    "    INSERT INTO people (PersonName, RoleID, CurrentBalance) VALUES ('Mike', {role_ids['Parent']}, 0);\n",
    "\"\"\")\n",
    "conn.commit()\n"
   ]
  },
  {
   "cell_type": "code",
   "execution_count": 55,
   "metadata": {},
   "outputs": [
    {
     "data": {
      "text/plain": [
       "(['PersonID', 'PersonName', 'RoleID', 'CurrentBalance'], [(1, 'Mike', 2, 0)])"
      ]
     },
     "execution_count": 55,
     "metadata": {},
     "output_type": "execute_result"
    }
   ],
   "source": [
    "people = cursor.execute(\"\"\" select * from people \"\"\").fetchall()\n",
    "[c[0] for c in cursor.description], people"
   ]
  },
  {
   "cell_type": "code",
   "execution_count": 21,
   "metadata": {},
   "outputs": [],
   "source": [
    "\n",
    "# We're going to have a daily scheduled process to calculate the day's chores, and pop them in this table\n",
    "# so we can track whether repeated chores are carried out \n",
    "r = cursor.execute(\"\"\"\n",
    "create table if not exists choreinstances (\n",
    "    ChoreInstanceID integer primary key,\n",
    "    ChoreID INTEGER, \n",
    "    Completed INTEGER, -- Boolean\n",
    "    CompletedBy INTEGER, -- this will store PersonID of whoever completed it\n",
    "    Banked INTEGER -- has it been paid into the bank account?\n",
    "    );\n",
    "\"\"\")\n"
   ]
  },
  {
   "cell_type": "code",
   "execution_count": 22,
   "metadata": {},
   "outputs": [],
   "source": [
    "\n",
    "# Who is responsible for each chore?\n",
    "# More than one person can be responsible, so we have to be \n",
    "# able to track whether a multi-person chore has been completed and by whom\n",
    "r = cursor.execute(\"\"\"\n",
    "create table if not exists choreresponsibilities (\n",
    "    ResponsibilityID integer primary key,\n",
    "    PersonID INTEGER, \n",
    "    ChoreID INTEGER\n",
    "    );\n",
    "\"\"\")\n"
   ]
  },
  {
   "cell_type": "code",
   "execution_count": 56,
   "metadata": {},
   "outputs": [],
   "source": [
    "# What's the going rate for a chore these days?\n",
    "r = cursor.execute(\"\"\"\n",
    "create table if not exists chorerates (\n",
    "    RateID integer primary key,\n",
    "    Rate INTEGER, -- amount in pence\n",
    "    StartDate TEXT -- when did the rate take effect?\n",
    "    );\n",
    "\"\"\")"
   ]
  },
  {
   "cell_type": "code",
   "execution_count": 57,
   "metadata": {},
   "outputs": [],
   "source": [
    "r = cursor.execute(f\"\"\"\n",
    "    INSERT INTO chorerates (Rate, StartDate) VALUES (25, '2023-01-01');\n",
    "\"\"\")\n",
    "conn.commit()"
   ]
  },
  {
   "cell_type": "code",
   "execution_count": 62,
   "metadata": {},
   "outputs": [],
   "source": [
    "import pandas as pd"
   ]
  },
  {
   "cell_type": "code",
   "execution_count": 65,
   "metadata": {},
   "outputs": [
    {
     "data": {
      "text/html": [
       "<div>\n",
       "<style scoped>\n",
       "    .dataframe tbody tr th:only-of-type {\n",
       "        vertical-align: middle;\n",
       "    }\n",
       "\n",
       "    .dataframe tbody tr th {\n",
       "        vertical-align: top;\n",
       "    }\n",
       "\n",
       "    .dataframe thead th {\n",
       "        text-align: right;\n",
       "    }\n",
       "</style>\n",
       "<table border=\"1\" class=\"dataframe\">\n",
       "  <thead>\n",
       "    <tr style=\"text-align: right;\">\n",
       "      <th></th>\n",
       "      <th>Rate</th>\n",
       "      <th>StartDate</th>\n",
       "    </tr>\n",
       "  </thead>\n",
       "  <tbody>\n",
       "    <tr>\n",
       "      <th>0</th>\n",
       "      <td>25</td>\n",
       "      <td>2023-01-01</td>\n",
       "    </tr>\n",
       "  </tbody>\n",
       "</table>\n",
       "</div>"
      ],
      "text/plain": [
       "   Rate   StartDate\n",
       "0    25  2023-01-01"
      ]
     },
     "execution_count": 65,
     "metadata": {},
     "output_type": "execute_result"
    }
   ],
   "source": [
    "rates = cursor.execute(\"\"\" select rate, date(StartDate) as StartDate from chorerates \"\"\").fetchall()\n",
    "pd.DataFrame(rates, columns=[c[0] for c in cursor.description])"
   ]
  },
  {
   "cell_type": "code",
   "execution_count": 66,
   "metadata": {},
   "outputs": [],
   "source": [
    "\n",
    "# Need to have some way of storing the parent passcode\n",
    "# and potentially change it.\n",
    "\n",
    "r = cursor.execute(\"\"\"\n",
    "create table if not exists credentials (\n",
    "    CredentialID integer primary key,\n",
    "    RoleID INTEGER, -- need one or both of these two\n",
    "    PersonID INTEGER, -- need one or both of these two\n",
    "    Passcode TEXT -- this should possibly be encrypted...\n",
    "    );\n",
    "\"\"\")"
   ]
  }
 ],
 "metadata": {
  "kernelspec": {
   "display_name": "ChoreTracker",
   "language": "python",
   "name": "python3"
  },
  "language_info": {
   "codemirror_mode": {
    "name": "ipython",
    "version": 3
   },
   "file_extension": ".py",
   "mimetype": "text/x-python",
   "name": "python",
   "nbconvert_exporter": "python",
   "pygments_lexer": "ipython3",
   "version": "3.10.1"
  },
  "orig_nbformat": 4,
  "vscode": {
   "interpreter": {
    "hash": "9c10cf430ce861754ff4f9ec75d9fde65b41e97ba7d43094f3c02d2336b577f3"
   }
  }
 },
 "nbformat": 4,
 "nbformat_minor": 2
}
