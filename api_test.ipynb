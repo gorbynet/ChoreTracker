{
 "cells": [
  {
   "cell_type": "code",
   "execution_count": 1,
   "metadata": {},
   "outputs": [],
   "source": [
    "import requests\n",
    "import json\n",
    "import pandas as pd\n",
    "import datetime as dt"
   ]
  },
  {
   "cell_type": "code",
   "execution_count": 2,
   "metadata": {},
   "outputs": [],
   "source": [
    "s = requests.Session()"
   ]
  },
  {
   "cell_type": "code",
   "execution_count": 3,
   "metadata": {},
   "outputs": [],
   "source": [
    "api_url = 'http://localhost:5000/api/v1/resources/{}'"
   ]
  },
  {
   "cell_type": "code",
   "execution_count": 24,
   "metadata": {},
   "outputs": [],
   "source": [
    "r = s.get(api_url.format('get_chores'), params={'personId': 4}).json()"
   ]
  },
  {
   "cell_type": "code",
   "execution_count": 25,
   "metadata": {},
   "outputs": [
    {
     "data": {
      "text/plain": [
       "'{\"ChoreID\":{\"0\":1,\"1\":2,\"2\":3,\"3\":4,\"4\":5,\"5\":6,\"6\":7,\"7\":8,\"8\":9},\"name\":{\"0\":\"Two week test\",\"1\":\"One week test\",\"2\":\"Today test\",\"3\":\"Two day yesterday test\",\"4\":\"Two day today test\",\"5\":\"Two day today inactive test\",\"6\":\"Test API chore\",\"7\":\"Test Form chore\",\"8\":\"Mr Michael E Roberts\"},\"schedule\":{\"0\":\"1W\",\"1\":\"1W\",\"2\":\"1W\",\"3\":\"2D\",\"4\":\"2D\",\"5\":\"2D\",\"6\":\"2D\",\"7\":\"1D\",\"8\":\"1W\"},\"start_date\":{\"0\":\"2023-01-05\",\"1\":\"2023-01-12\",\"2\":\"2023-01-19\",\"3\":\"2023-01-18\",\"4\":\"2023-01-19\",\"5\":\"2023-01-19\",\"6\":\"2023-01-28\",\"7\":\"2023-01-28\",\"8\":\"2023-01-28\"},\"start_time\":{\"0\":\"07:00:00\",\"1\":\"07:00:00\",\"2\":\"07:00:00\",\"3\":\"07:00:00\",\"4\":\"07:00:00\",\"5\":\"07:00:00\",\"6\":\"08:00:00\",\"7\":\"(datetime.time(7, 0),)\",\"8\":\"10\"},\"window\":{\"0\":\"4H\",\"1\":\"4H\",\"2\":\"4H\",\"3\":\"4H\",\"4\":\"4H\",\"5\":\"4H\",\"6\":\"6H\",\"7\":\"4H\",\"8\":\"12H\"},\"repeats\":{\"0\":1,\"1\":1,\"2\":1,\"3\":1,\"4\":1,\"5\":1,\"6\":0,\"7\":1,\"8\":0},\"active\":{\"0\":1,\"1\":1,\"2\":1,\"3\":1,\"4\":1,\"5\":0,\"6\":1,\"7\":0,\"8\":1}}'"
      ]
     },
     "execution_count": 25,
     "metadata": {},
     "output_type": "execute_result"
    }
   ],
   "source": [
    "# r.content.decode() # \n",
    "r['results']"
   ]
  },
  {
   "cell_type": "code",
   "execution_count": 26,
   "metadata": {},
   "outputs": [
    {
     "data": {
      "text/html": [
       "<div>\n",
       "<style scoped>\n",
       "    .dataframe tbody tr th:only-of-type {\n",
       "        vertical-align: middle;\n",
       "    }\n",
       "\n",
       "    .dataframe tbody tr th {\n",
       "        vertical-align: top;\n",
       "    }\n",
       "\n",
       "    .dataframe thead th {\n",
       "        text-align: right;\n",
       "    }\n",
       "</style>\n",
       "<table border=\"1\" class=\"dataframe\">\n",
       "  <thead>\n",
       "    <tr style=\"text-align: right;\">\n",
       "      <th></th>\n",
       "      <th>ChoreID</th>\n",
       "      <th>name</th>\n",
       "      <th>schedule</th>\n",
       "      <th>start_date</th>\n",
       "      <th>start_time</th>\n",
       "      <th>window</th>\n",
       "      <th>repeats</th>\n",
       "      <th>active</th>\n",
       "    </tr>\n",
       "  </thead>\n",
       "  <tbody>\n",
       "    <tr>\n",
       "      <th>0</th>\n",
       "      <td>1</td>\n",
       "      <td>Two week test</td>\n",
       "      <td>1W</td>\n",
       "      <td>2023-01-05</td>\n",
       "      <td>07:00:00</td>\n",
       "      <td>4H</td>\n",
       "      <td>1</td>\n",
       "      <td>1</td>\n",
       "    </tr>\n",
       "    <tr>\n",
       "      <th>1</th>\n",
       "      <td>2</td>\n",
       "      <td>One week test</td>\n",
       "      <td>1W</td>\n",
       "      <td>2023-01-12</td>\n",
       "      <td>07:00:00</td>\n",
       "      <td>4H</td>\n",
       "      <td>1</td>\n",
       "      <td>1</td>\n",
       "    </tr>\n",
       "    <tr>\n",
       "      <th>2</th>\n",
       "      <td>3</td>\n",
       "      <td>Today test</td>\n",
       "      <td>1W</td>\n",
       "      <td>2023-01-19</td>\n",
       "      <td>07:00:00</td>\n",
       "      <td>4H</td>\n",
       "      <td>1</td>\n",
       "      <td>1</td>\n",
       "    </tr>\n",
       "    <tr>\n",
       "      <th>3</th>\n",
       "      <td>4</td>\n",
       "      <td>Two day yesterday test</td>\n",
       "      <td>2D</td>\n",
       "      <td>2023-01-18</td>\n",
       "      <td>07:00:00</td>\n",
       "      <td>4H</td>\n",
       "      <td>1</td>\n",
       "      <td>1</td>\n",
       "    </tr>\n",
       "    <tr>\n",
       "      <th>4</th>\n",
       "      <td>5</td>\n",
       "      <td>Two day today test</td>\n",
       "      <td>2D</td>\n",
       "      <td>2023-01-19</td>\n",
       "      <td>07:00:00</td>\n",
       "      <td>4H</td>\n",
       "      <td>1</td>\n",
       "      <td>1</td>\n",
       "    </tr>\n",
       "    <tr>\n",
       "      <th>5</th>\n",
       "      <td>6</td>\n",
       "      <td>Two day today inactive test</td>\n",
       "      <td>2D</td>\n",
       "      <td>2023-01-19</td>\n",
       "      <td>07:00:00</td>\n",
       "      <td>4H</td>\n",
       "      <td>1</td>\n",
       "      <td>0</td>\n",
       "    </tr>\n",
       "    <tr>\n",
       "      <th>6</th>\n",
       "      <td>7</td>\n",
       "      <td>Test API chore</td>\n",
       "      <td>2D</td>\n",
       "      <td>2023-01-28</td>\n",
       "      <td>08:00:00</td>\n",
       "      <td>6H</td>\n",
       "      <td>0</td>\n",
       "      <td>1</td>\n",
       "    </tr>\n",
       "    <tr>\n",
       "      <th>7</th>\n",
       "      <td>8</td>\n",
       "      <td>Test Form chore</td>\n",
       "      <td>1D</td>\n",
       "      <td>2023-01-28</td>\n",
       "      <td>(datetime.time(7, 0),)</td>\n",
       "      <td>4H</td>\n",
       "      <td>1</td>\n",
       "      <td>0</td>\n",
       "    </tr>\n",
       "    <tr>\n",
       "      <th>8</th>\n",
       "      <td>9</td>\n",
       "      <td>Mr Michael E Roberts</td>\n",
       "      <td>1W</td>\n",
       "      <td>2023-01-28</td>\n",
       "      <td>10</td>\n",
       "      <td>12H</td>\n",
       "      <td>0</td>\n",
       "      <td>1</td>\n",
       "    </tr>\n",
       "  </tbody>\n",
       "</table>\n",
       "</div>"
      ],
      "text/plain": [
       "   ChoreID                         name schedule  start_date  \\\n",
       "0        1                Two week test       1W  2023-01-05   \n",
       "1        2                One week test       1W  2023-01-12   \n",
       "2        3                   Today test       1W  2023-01-19   \n",
       "3        4       Two day yesterday test       2D  2023-01-18   \n",
       "4        5           Two day today test       2D  2023-01-19   \n",
       "5        6  Two day today inactive test       2D  2023-01-19   \n",
       "6        7               Test API chore       2D  2023-01-28   \n",
       "7        8              Test Form chore       1D  2023-01-28   \n",
       "8        9         Mr Michael E Roberts       1W  2023-01-28   \n",
       "\n",
       "               start_time window  repeats  active  \n",
       "0                07:00:00     4H        1       1  \n",
       "1                07:00:00     4H        1       1  \n",
       "2                07:00:00     4H        1       1  \n",
       "3                07:00:00     4H        1       1  \n",
       "4                07:00:00     4H        1       1  \n",
       "5                07:00:00     4H        1       0  \n",
       "6                08:00:00     6H        0       1  \n",
       "7  (datetime.time(7, 0),)     4H        1       0  \n",
       "8                      10    12H        0       1  "
      ]
     },
     "execution_count": 26,
     "metadata": {},
     "output_type": "execute_result"
    }
   ],
   "source": [
    "df = pd.DataFrame(json.loads(r['results']))\n",
    "# list(zip(df['ChoreInstanceID'], df['name'], df['Completed']))\n",
    "df"
   ]
  },
  {
   "cell_type": "code",
   "execution_count": 104,
   "metadata": {},
   "outputs": [],
   "source": [
    "for i in [9, 10,11,12]:\n",
    "    s.post(api_url.format('uncomplete_chore_instance'), params={'choreInstanceId': i}) # .json()"
   ]
  },
  {
   "cell_type": "code",
   "execution_count": 88,
   "metadata": {},
   "outputs": [
    {
     "data": {
      "text/plain": [
       "<Response [200]>"
      ]
     },
     "execution_count": 88,
     "metadata": {},
     "output_type": "execute_result"
    }
   ],
   "source": [
    "r"
   ]
  },
  {
   "cell_type": "code",
   "execution_count": 7,
   "metadata": {},
   "outputs": [
    {
     "data": {
      "text/plain": [
       "<Response [200]>"
      ]
     },
     "execution_count": 7,
     "metadata": {},
     "output_type": "execute_result"
    }
   ],
   "source": [
    "#    name: str = None,\n",
    "#    schedule: str = '1D',\n",
    "#    start_date: dt.date = dt.date.today(),\n",
    "#    start_time: dt.time = dt.time(7),\n",
    "#    window: str = '4H',\n",
    "#    repeats: bool = True,\n",
    "#    active: bool = True,\n",
    "\n",
    "s.post(api_url.format('create_chore'), \n",
    "    headers={\n",
    "            \"Content-type\": \"application/x-www-form-urlencoded; charset=UTF-8\"\n",
    "        },\n",
    "    data={\n",
    "            'name': 'Test API chore',\n",
    "            'schedule': '2D',\n",
    "            'start_date': dt.date.today() + dt.timedelta(days=1),\n",
    "            'start_time': dt.time(8),\n",
    "            'window': '6H',\n",
    "            'repeats': False,\n",
    "            'active': True\n",
    "        }\n",
    "    )"
   ]
  },
  {
   "cell_type": "code",
   "execution_count": null,
   "metadata": {},
   "outputs": [],
   "source": []
  }
 ],
 "metadata": {
  "kernelspec": {
   "display_name": "ChoreTracker",
   "language": "python",
   "name": "python3"
  },
  "language_info": {
   "codemirror_mode": {
    "name": "ipython",
    "version": 3
   },
   "file_extension": ".py",
   "mimetype": "text/x-python",
   "name": "python",
   "nbconvert_exporter": "python",
   "pygments_lexer": "ipython3",
   "version": "3.10.1"
  },
  "orig_nbformat": 4,
  "vscode": {
   "interpreter": {
    "hash": "9c10cf430ce861754ff4f9ec75d9fde65b41e97ba7d43094f3c02d2336b577f3"
   }
  }
 },
 "nbformat": 4,
 "nbformat_minor": 2
}
