{
 "cells": [
  {
   "cell_type": "code",
   "execution_count": 1,
   "metadata": {},
   "outputs": [],
   "source": [
    "import locale"
   ]
  },
  {
   "cell_type": "code",
   "execution_count": 2,
   "metadata": {},
   "outputs": [
    {
     "data": {
      "text/plain": [
       "'English_United Kingdom.1252'"
      ]
     },
     "execution_count": 2,
     "metadata": {},
     "output_type": "execute_result"
    }
   ],
   "source": [
    "l = locale.setlocale(locale.LC_ALL, '')\n",
    "l # locale.CRNCYSTR"
   ]
  },
  {
   "cell_type": "code",
   "execution_count": 3,
   "metadata": {},
   "outputs": [],
   "source": [
    "import requests\n",
    "import json\n",
    "import pandas as pd\n",
    "import datetime as dt"
   ]
  },
  {
   "cell_type": "code",
   "execution_count": 4,
   "metadata": {},
   "outputs": [],
   "source": [
    "from ChoreTracker import utils"
   ]
  },
  {
   "cell_type": "code",
   "execution_count": 45,
   "metadata": {},
   "outputs": [],
   "source": [
    "import flask_login as fl\n",
    "\n",
    "class AppUser(fl.UserMixin):\n",
    "    ...\n",
    "    def __init__(self) -> None:\n",
    "        super().__init__()\n",
    "        \n",
    "    def get_id(self) -> str:\n",
    "        # do something here\n",
    "        return '1'\n",
    "    \n",
    "my_user = AppUser()\n"
   ]
  },
  {
   "cell_type": "code",
   "execution_count": 46,
   "metadata": {},
   "outputs": [
    {
     "data": {
      "text/plain": [
       "'1'"
      ]
     },
     "execution_count": 46,
     "metadata": {},
     "output_type": "execute_result"
    }
   ],
   "source": [
    "my_user.get_id()\n",
    "\n"
   ]
  },
  {
   "cell_type": "code",
   "execution_count": 47,
   "metadata": {},
   "outputs": [
    {
     "ename": "RuntimeError",
     "evalue": "Working outside of application context.\n\nThis typically means that you attempted to use functionality that needed\nthe current application. To solve this, set up an application context\nwith app.app_context(). See the documentation for more information.",
     "output_type": "error",
     "traceback": [
      "\u001b[1;31m---------------------------------------------------------------------------\u001b[0m",
      "\u001b[1;31mRuntimeError\u001b[0m                              Traceback (most recent call last)",
      "Cell \u001b[1;32mIn[47], line 1\u001b[0m\n\u001b[1;32m----> 1\u001b[0m fl\u001b[39m.\u001b[39;49mlogin_user(my_user)\n",
      "File \u001b[1;32mc:\\Users\\mike\\Environments\\ChoreTracker\\lib\\site-packages\\flask_login\\utils.py:183\u001b[0m, in \u001b[0;36mlogin_user\u001b[1;34m(user, remember, duration, force, fresh)\u001b[0m\n\u001b[0;32m    180\u001b[0m \u001b[39mif\u001b[39;00m \u001b[39mnot\u001b[39;00m force \u001b[39mand\u001b[39;00m \u001b[39mnot\u001b[39;00m user\u001b[39m.\u001b[39mis_active:\n\u001b[0;32m    181\u001b[0m     \u001b[39mreturn\u001b[39;00m \u001b[39mFalse\u001b[39;00m\n\u001b[1;32m--> 183\u001b[0m user_id \u001b[39m=\u001b[39m \u001b[39mgetattr\u001b[39m(user, current_app\u001b[39m.\u001b[39;49mlogin_manager\u001b[39m.\u001b[39mid_attribute)()\n\u001b[0;32m    184\u001b[0m session[\u001b[39m\"\u001b[39m\u001b[39m_user_id\u001b[39m\u001b[39m\"\u001b[39m] \u001b[39m=\u001b[39m user_id\n\u001b[0;32m    185\u001b[0m session[\u001b[39m\"\u001b[39m\u001b[39m_fresh\u001b[39m\u001b[39m\"\u001b[39m] \u001b[39m=\u001b[39m fresh\n",
      "File \u001b[1;32mc:\\Users\\mike\\Environments\\ChoreTracker\\lib\\site-packages\\werkzeug\\local.py:316\u001b[0m, in \u001b[0;36m_ProxyLookup.__get__\u001b[1;34m(self, instance, owner)\u001b[0m\n\u001b[0;32m    313\u001b[0m     \u001b[39mreturn\u001b[39;00m \u001b[39mself\u001b[39m\n\u001b[0;32m    315\u001b[0m \u001b[39mtry\u001b[39;00m:\n\u001b[1;32m--> 316\u001b[0m     obj \u001b[39m=\u001b[39m instance\u001b[39m.\u001b[39;49m_get_current_object()  \u001b[39m# type: ignore[misc]\u001b[39;00m\n\u001b[0;32m    317\u001b[0m \u001b[39mexcept\u001b[39;00m \u001b[39mRuntimeError\u001b[39;00m:\n\u001b[0;32m    318\u001b[0m     \u001b[39mif\u001b[39;00m \u001b[39mself\u001b[39m\u001b[39m.\u001b[39mfallback \u001b[39mis\u001b[39;00m \u001b[39mNone\u001b[39;00m:\n",
      "File \u001b[1;32mc:\\Users\\mike\\Environments\\ChoreTracker\\lib\\site-packages\\werkzeug\\local.py:513\u001b[0m, in \u001b[0;36mLocalProxy.__init__.<locals>._get_current_object\u001b[1;34m()\u001b[0m\n\u001b[0;32m    511\u001b[0m     obj \u001b[39m=\u001b[39m local\u001b[39m.\u001b[39mget()  \u001b[39m# type: ignore[union-attr]\u001b[39;00m\n\u001b[0;32m    512\u001b[0m \u001b[39mexcept\u001b[39;00m \u001b[39mLookupError\u001b[39;00m:\n\u001b[1;32m--> 513\u001b[0m     \u001b[39mraise\u001b[39;00m \u001b[39mRuntimeError\u001b[39;00m(unbound_message) \u001b[39mfrom\u001b[39;00m \u001b[39mNone\u001b[39m\n\u001b[0;32m    515\u001b[0m \u001b[39mreturn\u001b[39;00m get_name(obj)\n",
      "\u001b[1;31mRuntimeError\u001b[0m: Working outside of application context.\n\nThis typically means that you attempted to use functionality that needed\nthe current application. To solve this, set up an application context\nwith app.app_context(). See the documentation for more information."
     ]
    }
   ],
   "source": [
    "fl.login_user(my_user)"
   ]
  },
  {
   "cell_type": "code",
   "execution_count": 33,
   "metadata": {},
   "outputs": [
    {
     "data": {
      "text/html": [
       "<div>\n",
       "<style scoped>\n",
       "    .dataframe tbody tr th:only-of-type {\n",
       "        vertical-align: middle;\n",
       "    }\n",
       "\n",
       "    .dataframe tbody tr th {\n",
       "        vertical-align: top;\n",
       "    }\n",
       "\n",
       "    .dataframe thead th {\n",
       "        text-align: right;\n",
       "    }\n",
       "</style>\n",
       "<table border=\"1\" class=\"dataframe\">\n",
       "  <thead>\n",
       "    <tr style=\"text-align: right;\">\n",
       "      <th></th>\n",
       "      <th>PersonID</th>\n",
       "      <th>PersonName</th>\n",
       "      <th>RoleName</th>\n",
       "      <th>CurrentBalance</th>\n",
       "      <th>confirmedMoney</th>\n",
       "      <th>pendingMoney</th>\n",
       "    </tr>\n",
       "  </thead>\n",
       "  <tbody>\n",
       "    <tr>\n",
       "      <th>0</th>\n",
       "      <td>4</td>\n",
       "      <td>Lottie</td>\n",
       "      <td>Child</td>\n",
       "      <td>480</td>\n",
       "      <td>440</td>\n",
       "      <td>35</td>\n",
       "    </tr>\n",
       "  </tbody>\n",
       "</table>\n",
       "</div>"
      ],
      "text/plain": [
       "   PersonID PersonName RoleName  CurrentBalance  confirmedMoney  pendingMoney\n",
       "0         4     Lottie    Child             480             440            35"
      ]
     },
     "execution_count": 33,
     "metadata": {},
     "output_type": "execute_result"
    }
   ],
   "source": [
    "utils.get_person_details(PersonID=4)"
   ]
  },
  {
   "cell_type": "code",
   "execution_count": 29,
   "metadata": {},
   "outputs": [
    {
     "data": {
      "text/plain": [
       "True"
      ]
     },
     "execution_count": 29,
     "metadata": {},
     "output_type": "execute_result"
    }
   ],
   "source": [
    "roles = utils.get_roles()\n",
    "default_roleid = roles[roles['RoleName'] == 'Child']['RoleID'].values[0]\n",
    "utils.create_person(\n",
    "        PersonName=\"No name specified\",\n",
    "        RoleType=\"Child\"\n",
    "    )\n",
    "# utils.create_person()"
   ]
  },
  {
   "cell_type": "code",
   "execution_count": 33,
   "metadata": {},
   "outputs": [
    {
     "data": {
      "text/html": [
       "<div>\n",
       "<style scoped>\n",
       "    .dataframe tbody tr th:only-of-type {\n",
       "        vertical-align: middle;\n",
       "    }\n",
       "\n",
       "    .dataframe tbody tr th {\n",
       "        vertical-align: top;\n",
       "    }\n",
       "\n",
       "    .dataframe thead th {\n",
       "        text-align: right;\n",
       "    }\n",
       "</style>\n",
       "<table border=\"1\" class=\"dataframe\">\n",
       "  <thead>\n",
       "    <tr style=\"text-align: right;\">\n",
       "      <th></th>\n",
       "      <th>PersonID</th>\n",
       "      <th>PersonName</th>\n",
       "      <th>RoleID</th>\n",
       "      <th>CurrentBalance</th>\n",
       "    </tr>\n",
       "  </thead>\n",
       "  <tbody>\n",
       "    <tr>\n",
       "      <th>0</th>\n",
       "      <td>1</td>\n",
       "      <td>Mike</td>\n",
       "      <td>2</td>\n",
       "      <td>280</td>\n",
       "    </tr>\n",
       "    <tr>\n",
       "      <th>1</th>\n",
       "      <td>2</td>\n",
       "      <td>Michelle</td>\n",
       "      <td>2</td>\n",
       "      <td>235</td>\n",
       "    </tr>\n",
       "    <tr>\n",
       "      <th>2</th>\n",
       "      <td>3</td>\n",
       "      <td>Jake</td>\n",
       "      <td>3</td>\n",
       "      <td>0</td>\n",
       "    </tr>\n",
       "    <tr>\n",
       "      <th>3</th>\n",
       "      <td>4</td>\n",
       "      <td>Lottie</td>\n",
       "      <td>3</td>\n",
       "      <td>445</td>\n",
       "    </tr>\n",
       "    <tr>\n",
       "      <th>4</th>\n",
       "      <td>7</td>\n",
       "      <td>No name specified</td>\n",
       "      <td>3</td>\n",
       "      <td>0</td>\n",
       "    </tr>\n",
       "    <tr>\n",
       "      <th>5</th>\n",
       "      <td>8</td>\n",
       "      <td>No name specified</td>\n",
       "      <td>3</td>\n",
       "      <td>0</td>\n",
       "    </tr>\n",
       "  </tbody>\n",
       "</table>\n",
       "</div>"
      ],
      "text/plain": [
       "   PersonID         PersonName  RoleID  CurrentBalance\n",
       "0         1               Mike       2             280\n",
       "1         2           Michelle       2             235\n",
       "2         3               Jake       3               0\n",
       "3         4             Lottie       3             445\n",
       "4         7  No name specified       3               0\n",
       "5         8  No name specified       3               0"
      ]
     },
     "execution_count": 33,
     "metadata": {},
     "output_type": "execute_result"
    }
   ],
   "source": [
    "people = utils.get_people()\n",
    "people # [people[\"PersonName\"]==\"No name specified\"][\"PersonID\"].max()"
   ]
  },
  {
   "cell_type": "code",
   "execution_count": 42,
   "metadata": {},
   "outputs": [
    {
     "data": {
      "text/plain": [
       "'8af288a7f3136e5653ad28f07f4d8de3'"
      ]
     },
     "execution_count": 42,
     "metadata": {},
     "output_type": "execute_result"
    }
   ],
   "source": [
    "from hashlib import md5\n",
    "d = md5(\"0959\".encode()).hexdigest()\n",
    "d"
   ]
  },
  {
   "cell_type": "code",
   "execution_count": 45,
   "metadata": {},
   "outputs": [
    {
     "data": {
      "text/plain": [
       "<sqlite3.Cursor at 0x227a81c77c0>"
      ]
     },
     "execution_count": 45,
     "metadata": {},
     "output_type": "execute_result"
    }
   ],
   "source": [
    "utils.update_db(\"delete from credentials\", commit=True)"
   ]
  },
  {
   "cell_type": "code",
   "execution_count": 46,
   "metadata": {},
   "outputs": [
    {
     "data": {
      "text/plain": [
       "<sqlite3.Cursor at 0x227aa4183c0>"
      ]
     },
     "execution_count": 46,
     "metadata": {},
     "output_type": "execute_result"
    }
   ],
   "source": [
    "utils.update_db(q=f\"\"\" insert into credentials\n",
    "        (RoleID, PersonID, Passcode)\n",
    "        VALUES\n",
    "        ('2', '{None}', '{d}')\n",
    "        \"\"\",\n",
    "    commit=True\n",
    ")"
   ]
  },
  {
   "cell_type": "code",
   "execution_count": null,
   "metadata": {},
   "outputs": [],
   "source": [
    "utils.update_db(q=f\"\"\" update credentials\n",
    "        set Passcode = '{passcode}'\n",
    "        where RoldID = '2';\n",
    "        \"\"\",\n",
    "    commit=True\n",
    ")"
   ]
  },
  {
   "cell_type": "code",
   "execution_count": 48,
   "metadata": {},
   "outputs": [
    {
     "data": {
      "text/plain": [
       "'8af288a7f3136e5653ad28f07f4d8de3'"
      ]
     },
     "execution_count": 48,
     "metadata": {},
     "output_type": "execute_result"
    }
   ],
   "source": [
    "utils.query_db(\"\"\"select passcode from credentials\"\"\")['Passcode'].values[0]"
   ]
  },
  {
   "cell_type": "code",
   "execution_count": 39,
   "metadata": {},
   "outputs": [
    {
     "ename": "AssertionError",
     "evalue": "",
     "output_type": "error",
     "traceback": [
      "\u001b[1;31m---------------------------------------------------------------------------\u001b[0m",
      "\u001b[1;31mAssertionError\u001b[0m                            Traceback (most recent call last)",
      "Cell \u001b[1;32mIn[39], line 1\u001b[0m\n\u001b[1;32m----> 1\u001b[0m \u001b[39massert\u001b[39;00m md5(\u001b[39m\"\u001b[39m\u001b[39m2341\u001b[39m\u001b[39m\"\u001b[39m\u001b[39m.\u001b[39mencode())\u001b[39m.\u001b[39mhexdigest() \u001b[39m==\u001b[39m d\n",
      "\u001b[1;31mAssertionError\u001b[0m: "
     ]
    }
   ],
   "source": [
    "assert md5(\"2341\".encode()).hexdigest() == d"
   ]
  },
  {
   "cell_type": "code",
   "execution_count": 34,
   "metadata": {},
   "outputs": [
    {
     "data": {
      "text/html": [
       "<div>\n",
       "<style scoped>\n",
       "    .dataframe tbody tr th:only-of-type {\n",
       "        vertical-align: middle;\n",
       "    }\n",
       "\n",
       "    .dataframe tbody tr th {\n",
       "        vertical-align: top;\n",
       "    }\n",
       "\n",
       "    .dataframe thead th {\n",
       "        text-align: right;\n",
       "    }\n",
       "</style>\n",
       "<table border=\"1\" class=\"dataframe\">\n",
       "  <thead>\n",
       "    <tr style=\"text-align: right;\">\n",
       "      <th></th>\n",
       "      <th>PersonID</th>\n",
       "      <th>PersonName</th>\n",
       "      <th>RoleName</th>\n",
       "      <th>CurrentBalance</th>\n",
       "      <th>confirmedMoney</th>\n",
       "      <th>pendingMoney</th>\n",
       "    </tr>\n",
       "  </thead>\n",
       "  <tbody>\n",
       "  </tbody>\n",
       "</table>\n",
       "</div>"
      ],
      "text/plain": [
       "Empty DataFrame\n",
       "Columns: [PersonID, PersonName, RoleName, CurrentBalance, confirmedMoney, pendingMoney]\n",
       "Index: []"
      ]
     },
     "execution_count": 34,
     "metadata": {},
     "output_type": "execute_result"
    }
   ],
   "source": [
    "utils.get_person_details(PersonID=8)"
   ]
  },
  {
   "cell_type": "code",
   "execution_count": 22,
   "metadata": {},
   "outputs": [
    {
     "name": "stdout",
     "output_type": "stream",
     "text": [
      "WHERE i.completedBy = p.PersonId AND validated=0 AND completed=1\n"
     ]
    },
    {
     "data": {
      "text/html": [
       "<div>\n",
       "<style scoped>\n",
       "    .dataframe tbody tr th:only-of-type {\n",
       "        vertical-align: middle;\n",
       "    }\n",
       "\n",
       "    .dataframe tbody tr th {\n",
       "        vertical-align: top;\n",
       "    }\n",
       "\n",
       "    .dataframe thead th {\n",
       "        text-align: right;\n",
       "    }\n",
       "</style>\n",
       "<table border=\"1\" class=\"dataframe\">\n",
       "  <thead>\n",
       "    <tr style=\"text-align: right;\">\n",
       "      <th></th>\n",
       "      <th>PersonName</th>\n",
       "      <th>ChoreDate</th>\n",
       "      <th>name</th>\n",
       "      <th>CompletedBy</th>\n",
       "      <th>ChoreInstanceID</th>\n",
       "      <th>Completed</th>\n",
       "      <th>Validated</th>\n",
       "      <th>Banked</th>\n",
       "    </tr>\n",
       "  </thead>\n",
       "  <tbody>\n",
       "  </tbody>\n",
       "</table>\n",
       "</div>"
      ],
      "text/plain": [
       "Empty DataFrame\n",
       "Columns: [PersonName, ChoreDate, name, CompletedBy, ChoreInstanceID, Completed, Validated, Banked]\n",
       "Index: []"
      ]
     },
     "execution_count": 22,
     "metadata": {},
     "output_type": "execute_result"
    }
   ],
   "source": [
    "utils.get_chores_table(validated=False)"
   ]
  },
  {
   "cell_type": "code",
   "execution_count": 5,
   "metadata": {},
   "outputs": [
    {
     "data": {
      "text/html": [
       "<div>\n",
       "<style scoped>\n",
       "    .dataframe tbody tr th:only-of-type {\n",
       "        vertical-align: middle;\n",
       "    }\n",
       "\n",
       "    .dataframe tbody tr th {\n",
       "        vertical-align: top;\n",
       "    }\n",
       "\n",
       "    .dataframe thead th {\n",
       "        text-align: right;\n",
       "    }\n",
       "</style>\n",
       "<table border=\"1\" class=\"dataframe\">\n",
       "  <thead>\n",
       "    <tr style=\"text-align: right;\">\n",
       "      <th></th>\n",
       "      <th>PersonID</th>\n",
       "      <th>PersonName</th>\n",
       "      <th>RoleName</th>\n",
       "      <th>confirmedMoney</th>\n",
       "      <th>pendingMoney</th>\n",
       "    </tr>\n",
       "  </thead>\n",
       "  <tbody>\n",
       "    <tr>\n",
       "      <th>0</th>\n",
       "      <td>4</td>\n",
       "      <td>Lottie</td>\n",
       "      <td>Child</td>\n",
       "      <td>0</td>\n",
       "      <td>270</td>\n",
       "    </tr>\n",
       "  </tbody>\n",
       "</table>\n",
       "</div>"
      ],
      "text/plain": [
       "   PersonID PersonName RoleName  confirmedMoney  pendingMoney\n",
       "0         4     Lottie    Child               0           270"
      ]
     },
     "execution_count": 5,
     "metadata": {},
     "output_type": "execute_result"
    }
   ],
   "source": [
    "PersonId=4\n",
    "utils.query_db(f\"\"\"\n",
    "select \n",
    "    personid,\n",
    "    personName,\n",
    "    Rolename,\n",
    "    sum(iif (validated=1, rate, 0)) as confirmedMoney,\n",
    "    sum(iif (validated=0, rate, 0)) as pendingMoney\n",
    "from \n",
    "    people as p \n",
    "join \n",
    "    choreinstances as ci\n",
    "    on p.PersonId = ci.CompletedBy\n",
    "join\n",
    "    roles as r\n",
    "on p.RoleID = r.RoleID\n",
    "\n",
    "where \n",
    "    personid = {PersonId}\n",
    "group by\n",
    "    personid,\n",
    "    personName,\n",
    "    Rolename\n",
    "\"\"\")"
   ]
  },
  {
   "cell_type": "code",
   "execution_count": 6,
   "metadata": {},
   "outputs": [
    {
     "data": {
      "text/html": [
       "<div>\n",
       "<style scoped>\n",
       "    .dataframe tbody tr th:only-of-type {\n",
       "        vertical-align: middle;\n",
       "    }\n",
       "\n",
       "    .dataframe tbody tr th {\n",
       "        vertical-align: top;\n",
       "    }\n",
       "\n",
       "    .dataframe thead th {\n",
       "        text-align: right;\n",
       "    }\n",
       "</style>\n",
       "<table border=\"1\" class=\"dataframe\">\n",
       "  <thead>\n",
       "    <tr style=\"text-align: right;\">\n",
       "      <th></th>\n",
       "      <th>RoleID</th>\n",
       "      <th>RoleName</th>\n",
       "    </tr>\n",
       "  </thead>\n",
       "  <tbody>\n",
       "    <tr>\n",
       "      <th>0</th>\n",
       "      <td>2</td>\n",
       "      <td>Parent</td>\n",
       "    </tr>\n",
       "    <tr>\n",
       "      <th>1</th>\n",
       "      <td>3</td>\n",
       "      <td>Child</td>\n",
       "    </tr>\n",
       "  </tbody>\n",
       "</table>\n",
       "</div>"
      ],
      "text/plain": [
       "   RoleID RoleName\n",
       "0       2   Parent\n",
       "1       3    Child"
      ]
     },
     "execution_count": 6,
     "metadata": {},
     "output_type": "execute_result"
    }
   ],
   "source": [
    "utils.get_roles()"
   ]
  },
  {
   "cell_type": "code",
   "execution_count": 7,
   "metadata": {},
   "outputs": [
    {
     "data": {
      "text/html": [
       "<div>\n",
       "<style scoped>\n",
       "    .dataframe tbody tr th:only-of-type {\n",
       "        vertical-align: middle;\n",
       "    }\n",
       "\n",
       "    .dataframe tbody tr th {\n",
       "        vertical-align: top;\n",
       "    }\n",
       "\n",
       "    .dataframe thead th {\n",
       "        text-align: right;\n",
       "    }\n",
       "</style>\n",
       "<table border=\"1\" class=\"dataframe\">\n",
       "  <thead>\n",
       "    <tr style=\"text-align: right;\">\n",
       "      <th></th>\n",
       "      <th>ResponsibilityID</th>\n",
       "      <th>PersonID</th>\n",
       "      <th>ChoreID</th>\n",
       "    </tr>\n",
       "  </thead>\n",
       "  <tbody>\n",
       "    <tr>\n",
       "      <th>0</th>\n",
       "      <td>1</td>\n",
       "      <td>2</td>\n",
       "      <td>6</td>\n",
       "    </tr>\n",
       "    <tr>\n",
       "      <th>1</th>\n",
       "      <td>3</td>\n",
       "      <td>2</td>\n",
       "      <td>2</td>\n",
       "    </tr>\n",
       "    <tr>\n",
       "      <th>2</th>\n",
       "      <td>4</td>\n",
       "      <td>3</td>\n",
       "      <td>3</td>\n",
       "    </tr>\n",
       "    <tr>\n",
       "      <th>3</th>\n",
       "      <td>5</td>\n",
       "      <td>4</td>\n",
       "      <td>4</td>\n",
       "    </tr>\n",
       "    <tr>\n",
       "      <th>4</th>\n",
       "      <td>6</td>\n",
       "      <td>4</td>\n",
       "      <td>5</td>\n",
       "    </tr>\n",
       "    <tr>\n",
       "      <th>5</th>\n",
       "      <td>7</td>\n",
       "      <td>4</td>\n",
       "      <td>6</td>\n",
       "    </tr>\n",
       "    <tr>\n",
       "      <th>6</th>\n",
       "      <td>8</td>\n",
       "      <td>1</td>\n",
       "      <td>1</td>\n",
       "    </tr>\n",
       "    <tr>\n",
       "      <th>7</th>\n",
       "      <td>9</td>\n",
       "      <td>4</td>\n",
       "      <td>1</td>\n",
       "    </tr>\n",
       "    <tr>\n",
       "      <th>8</th>\n",
       "      <td>10</td>\n",
       "      <td>1</td>\n",
       "      <td>25</td>\n",
       "    </tr>\n",
       "    <tr>\n",
       "      <th>9</th>\n",
       "      <td>11</td>\n",
       "      <td>2</td>\n",
       "      <td>11</td>\n",
       "    </tr>\n",
       "    <tr>\n",
       "      <th>10</th>\n",
       "      <td>12</td>\n",
       "      <td>3</td>\n",
       "      <td>26</td>\n",
       "    </tr>\n",
       "    <tr>\n",
       "      <th>11</th>\n",
       "      <td>13</td>\n",
       "      <td>4</td>\n",
       "      <td>26</td>\n",
       "    </tr>\n",
       "    <tr>\n",
       "      <th>12</th>\n",
       "      <td>14</td>\n",
       "      <td>1</td>\n",
       "      <td>27</td>\n",
       "    </tr>\n",
       "    <tr>\n",
       "      <th>13</th>\n",
       "      <td>15</td>\n",
       "      <td>2</td>\n",
       "      <td>27</td>\n",
       "    </tr>\n",
       "    <tr>\n",
       "      <th>14</th>\n",
       "      <td>16</td>\n",
       "      <td>3</td>\n",
       "      <td>27</td>\n",
       "    </tr>\n",
       "    <tr>\n",
       "      <th>15</th>\n",
       "      <td>17</td>\n",
       "      <td>4</td>\n",
       "      <td>27</td>\n",
       "    </tr>\n",
       "    <tr>\n",
       "      <th>16</th>\n",
       "      <td>18</td>\n",
       "      <td>1</td>\n",
       "      <td>28</td>\n",
       "    </tr>\n",
       "  </tbody>\n",
       "</table>\n",
       "</div>"
      ],
      "text/plain": [
       "    ResponsibilityID  PersonID  ChoreID\n",
       "0                  1         2        6\n",
       "1                  3         2        2\n",
       "2                  4         3        3\n",
       "3                  5         4        4\n",
       "4                  6         4        5\n",
       "5                  7         4        6\n",
       "6                  8         1        1\n",
       "7                  9         4        1\n",
       "8                 10         1       25\n",
       "9                 11         2       11\n",
       "10                12         3       26\n",
       "11                13         4       26\n",
       "12                14         1       27\n",
       "13                15         2       27\n",
       "14                16         3       27\n",
       "15                17         4       27\n",
       "16                18         1       28"
      ]
     },
     "execution_count": 7,
     "metadata": {},
     "output_type": "execute_result"
    }
   ],
   "source": [
    "utils.get_responsibilities()"
   ]
  },
  {
   "cell_type": "code",
   "execution_count": 8,
   "metadata": {},
   "outputs": [
    {
     "data": {
      "text/plain": [
       "True"
      ]
     },
     "execution_count": 8,
     "metadata": {},
     "output_type": "execute_result"
    }
   ],
   "source": [
    "utils.complete_chore_instance(choreInstanceId=16, personId=4)"
   ]
  },
  {
   "cell_type": "code",
   "execution_count": 9,
   "metadata": {},
   "outputs": [
    {
     "data": {
      "text/plain": [
       "True"
      ]
     },
     "execution_count": 9,
     "metadata": {},
     "output_type": "execute_result"
    }
   ],
   "source": [
    "utils.uncomplete_chore_instance(choreInstanceId=16, )"
   ]
  },
  {
   "cell_type": "code",
   "execution_count": 13,
   "metadata": {},
   "outputs": [
    {
     "data": {
      "text/html": [
       "<div>\n",
       "<style scoped>\n",
       "    .dataframe tbody tr th:only-of-type {\n",
       "        vertical-align: middle;\n",
       "    }\n",
       "\n",
       "    .dataframe tbody tr th {\n",
       "        vertical-align: top;\n",
       "    }\n",
       "\n",
       "    .dataframe thead th {\n",
       "        text-align: right;\n",
       "    }\n",
       "</style>\n",
       "<table border=\"1\" class=\"dataframe\">\n",
       "  <thead>\n",
       "    <tr style=\"text-align: right;\">\n",
       "      <th></th>\n",
       "      <th>PersonName</th>\n",
       "      <th>ChoreDate</th>\n",
       "      <th>name</th>\n",
       "      <th>CompletedBy</th>\n",
       "      <th>ChoreInstanceID</th>\n",
       "      <th>Completed</th>\n",
       "      <th>Validated</th>\n",
       "      <th>Banked</th>\n",
       "    </tr>\n",
       "  </thead>\n",
       "  <tbody>\n",
       "    <tr>\n",
       "      <th>9</th>\n",
       "      <td>Jake</td>\n",
       "      <td>2023-01-26</td>\n",
       "      <td>Today test</td>\n",
       "      <td>3</td>\n",
       "      <td>11</td>\n",
       "      <td>1</td>\n",
       "      <td>0</td>\n",
       "      <td>0</td>\n",
       "    </tr>\n",
       "    <tr>\n",
       "      <th>10</th>\n",
       "      <td>Lottie</td>\n",
       "      <td>2023-01-26</td>\n",
       "      <td>Two day yesterday test</td>\n",
       "      <td>4</td>\n",
       "      <td>12</td>\n",
       "      <td>1</td>\n",
       "      <td>0</td>\n",
       "      <td>0</td>\n",
       "    </tr>\n",
       "    <tr>\n",
       "      <th>11</th>\n",
       "      <td>Lottie</td>\n",
       "      <td>2023-01-26</td>\n",
       "      <td>Two week test</td>\n",
       "      <td>4</td>\n",
       "      <td>9</td>\n",
       "      <td>1</td>\n",
       "      <td>0</td>\n",
       "      <td>0</td>\n",
       "    </tr>\n",
       "    <tr>\n",
       "      <th>12</th>\n",
       "      <td>Michelle</td>\n",
       "      <td>2023-01-26</td>\n",
       "      <td>One week test</td>\n",
       "      <td>2</td>\n",
       "      <td>10</td>\n",
       "      <td>1</td>\n",
       "      <td>0</td>\n",
       "      <td>0</td>\n",
       "    </tr>\n",
       "    <tr>\n",
       "      <th>13</th>\n",
       "      <td>Mike</td>\n",
       "      <td>2023-01-26</td>\n",
       "      <td>Two week test</td>\n",
       "      <td>4</td>\n",
       "      <td>9</td>\n",
       "      <td>1</td>\n",
       "      <td>0</td>\n",
       "      <td>0</td>\n",
       "    </tr>\n",
       "    <tr>\n",
       "      <th>17</th>\n",
       "      <td>Lottie</td>\n",
       "      <td>2023-02-28</td>\n",
       "      <td>Two day today test</td>\n",
       "      <td>4</td>\n",
       "      <td>17</td>\n",
       "      <td>1</td>\n",
       "      <td>0</td>\n",
       "      <td>0</td>\n",
       "    </tr>\n",
       "    <tr>\n",
       "      <th>18</th>\n",
       "      <td>Jake</td>\n",
       "      <td>2023-03-02</td>\n",
       "      <td>Today test</td>\n",
       "      <td>3</td>\n",
       "      <td>20</td>\n",
       "      <td>1</td>\n",
       "      <td>0</td>\n",
       "      <td>0</td>\n",
       "    </tr>\n",
       "    <tr>\n",
       "      <th>19</th>\n",
       "      <td>Jake</td>\n",
       "      <td>2023-03-02</td>\n",
       "      <td>Daily chore</td>\n",
       "      <td>3</td>\n",
       "      <td>25</td>\n",
       "      <td>1</td>\n",
       "      <td>0</td>\n",
       "      <td>0</td>\n",
       "    </tr>\n",
       "    <tr>\n",
       "      <th>20</th>\n",
       "      <td>Lottie</td>\n",
       "      <td>2023-03-02</td>\n",
       "      <td>Two day today test</td>\n",
       "      <td>4</td>\n",
       "      <td>21</td>\n",
       "      <td>1</td>\n",
       "      <td>0</td>\n",
       "      <td>0</td>\n",
       "    </tr>\n",
       "    <tr>\n",
       "      <th>21</th>\n",
       "      <td>Lottie</td>\n",
       "      <td>2023-03-02</td>\n",
       "      <td>Two week test</td>\n",
       "      <td>4</td>\n",
       "      <td>18</td>\n",
       "      <td>1</td>\n",
       "      <td>0</td>\n",
       "      <td>0</td>\n",
       "    </tr>\n",
       "    <tr>\n",
       "      <th>22</th>\n",
       "      <td>Lottie</td>\n",
       "      <td>2023-03-02</td>\n",
       "      <td>Daily chore</td>\n",
       "      <td>3</td>\n",
       "      <td>25</td>\n",
       "      <td>1</td>\n",
       "      <td>0</td>\n",
       "      <td>0</td>\n",
       "    </tr>\n",
       "    <tr>\n",
       "      <th>23</th>\n",
       "      <td>Michelle</td>\n",
       "      <td>2023-03-02</td>\n",
       "      <td>One week test</td>\n",
       "      <td>2</td>\n",
       "      <td>19</td>\n",
       "      <td>1</td>\n",
       "      <td>0</td>\n",
       "      <td>0</td>\n",
       "    </tr>\n",
       "    <tr>\n",
       "      <th>24</th>\n",
       "      <td>Michelle</td>\n",
       "      <td>2023-03-02</td>\n",
       "      <td>Test chore</td>\n",
       "      <td>2</td>\n",
       "      <td>24</td>\n",
       "      <td>1</td>\n",
       "      <td>0</td>\n",
       "      <td>0</td>\n",
       "    </tr>\n",
       "    <tr>\n",
       "      <th>25</th>\n",
       "      <td>Michelle</td>\n",
       "      <td>2023-03-02</td>\n",
       "      <td>Daily chore</td>\n",
       "      <td>3</td>\n",
       "      <td>25</td>\n",
       "      <td>1</td>\n",
       "      <td>0</td>\n",
       "      <td>0</td>\n",
       "    </tr>\n",
       "    <tr>\n",
       "      <th>26</th>\n",
       "      <td>Mike</td>\n",
       "      <td>2023-03-02</td>\n",
       "      <td>Two week test</td>\n",
       "      <td>4</td>\n",
       "      <td>18</td>\n",
       "      <td>1</td>\n",
       "      <td>0</td>\n",
       "      <td>0</td>\n",
       "    </tr>\n",
       "    <tr>\n",
       "      <th>27</th>\n",
       "      <td>Mike</td>\n",
       "      <td>2023-03-02</td>\n",
       "      <td>New test chore</td>\n",
       "      <td>1</td>\n",
       "      <td>23</td>\n",
       "      <td>1</td>\n",
       "      <td>0</td>\n",
       "      <td>0</td>\n",
       "    </tr>\n",
       "    <tr>\n",
       "      <th>28</th>\n",
       "      <td>Mike</td>\n",
       "      <td>2023-03-02</td>\n",
       "      <td>Daily chore</td>\n",
       "      <td>3</td>\n",
       "      <td>25</td>\n",
       "      <td>1</td>\n",
       "      <td>0</td>\n",
       "      <td>0</td>\n",
       "    </tr>\n",
       "    <tr>\n",
       "      <th>29</th>\n",
       "      <td>Jake</td>\n",
       "      <td>2023-03-03</td>\n",
       "      <td>Daily chore</td>\n",
       "      <td>4</td>\n",
       "      <td>27</td>\n",
       "      <td>1</td>\n",
       "      <td>0</td>\n",
       "      <td>0</td>\n",
       "    </tr>\n",
       "    <tr>\n",
       "      <th>31</th>\n",
       "      <td>Lottie</td>\n",
       "      <td>2023-03-03</td>\n",
       "      <td>Daily chore</td>\n",
       "      <td>4</td>\n",
       "      <td>27</td>\n",
       "      <td>1</td>\n",
       "      <td>0</td>\n",
       "      <td>0</td>\n",
       "    </tr>\n",
       "    <tr>\n",
       "      <th>32</th>\n",
       "      <td>Michelle</td>\n",
       "      <td>2023-03-03</td>\n",
       "      <td>Daily chore</td>\n",
       "      <td>4</td>\n",
       "      <td>27</td>\n",
       "      <td>1</td>\n",
       "      <td>0</td>\n",
       "      <td>0</td>\n",
       "    </tr>\n",
       "    <tr>\n",
       "      <th>33</th>\n",
       "      <td>Mike</td>\n",
       "      <td>2023-03-03</td>\n",
       "      <td>Daily chore</td>\n",
       "      <td>4</td>\n",
       "      <td>27</td>\n",
       "      <td>1</td>\n",
       "      <td>0</td>\n",
       "      <td>0</td>\n",
       "    </tr>\n",
       "  </tbody>\n",
       "</table>\n",
       "</div>"
      ],
      "text/plain": [
       "   PersonName   ChoreDate                    name CompletedBy  \\\n",
       "9        Jake  2023-01-26              Today test           3   \n",
       "10     Lottie  2023-01-26  Two day yesterday test           4   \n",
       "11     Lottie  2023-01-26           Two week test           4   \n",
       "12   Michelle  2023-01-26           One week test           2   \n",
       "13       Mike  2023-01-26           Two week test           4   \n",
       "17     Lottie  2023-02-28      Two day today test           4   \n",
       "18       Jake  2023-03-02              Today test           3   \n",
       "19       Jake  2023-03-02             Daily chore           3   \n",
       "20     Lottie  2023-03-02      Two day today test           4   \n",
       "21     Lottie  2023-03-02           Two week test           4   \n",
       "22     Lottie  2023-03-02             Daily chore           3   \n",
       "23   Michelle  2023-03-02           One week test           2   \n",
       "24   Michelle  2023-03-02              Test chore           2   \n",
       "25   Michelle  2023-03-02             Daily chore           3   \n",
       "26       Mike  2023-03-02           Two week test           4   \n",
       "27       Mike  2023-03-02          New test chore           1   \n",
       "28       Mike  2023-03-02             Daily chore           3   \n",
       "29       Jake  2023-03-03             Daily chore           4   \n",
       "31     Lottie  2023-03-03             Daily chore           4   \n",
       "32   Michelle  2023-03-03             Daily chore           4   \n",
       "33       Mike  2023-03-03             Daily chore           4   \n",
       "\n",
       "    ChoreInstanceID  Completed  Validated  Banked  \n",
       "9                11          1          0       0  \n",
       "10               12          1          0       0  \n",
       "11                9          1          0       0  \n",
       "12               10          1          0       0  \n",
       "13                9          1          0       0  \n",
       "17               17          1          0       0  \n",
       "18               20          1          0       0  \n",
       "19               25          1          0       0  \n",
       "20               21          1          0       0  \n",
       "21               18          1          0       0  \n",
       "22               25          1          0       0  \n",
       "23               19          1          0       0  \n",
       "24               24          1          0       0  \n",
       "25               25          1          0       0  \n",
       "26               18          1          0       0  \n",
       "27               23          1          0       0  \n",
       "28               25          1          0       0  \n",
       "29               27          1          0       0  \n",
       "31               27          1          0       0  \n",
       "32               27          1          0       0  \n",
       "33               27          1          0       0  "
      ]
     },
     "execution_count": 13,
     "metadata": {},
     "output_type": "execute_result"
    }
   ],
   "source": [
    "df = utils.get_chores_table()\n",
    "df[(df['Completed'] == 1) & (df['Validated'] == 0)]"
   ]
  },
  {
   "cell_type": "code",
   "execution_count": 15,
   "metadata": {},
   "outputs": [
    {
     "data": {
      "text/html": [
       "<div>\n",
       "<style scoped>\n",
       "    .dataframe tbody tr th:only-of-type {\n",
       "        vertical-align: middle;\n",
       "    }\n",
       "\n",
       "    .dataframe tbody tr th {\n",
       "        vertical-align: top;\n",
       "    }\n",
       "\n",
       "    .dataframe thead th {\n",
       "        text-align: right;\n",
       "    }\n",
       "</style>\n",
       "<table border=\"1\" class=\"dataframe\">\n",
       "  <thead>\n",
       "    <tr style=\"text-align: right;\">\n",
       "      <th></th>\n",
       "      <th>ChoreID</th>\n",
       "      <th>name</th>\n",
       "      <th>schedule</th>\n",
       "      <th>start_date</th>\n",
       "      <th>start_time</th>\n",
       "      <th>window</th>\n",
       "      <th>repeats</th>\n",
       "      <th>active</th>\n",
       "      <th>ActiveToday</th>\n",
       "    </tr>\n",
       "  </thead>\n",
       "  <tbody>\n",
       "    <tr>\n",
       "      <th>0</th>\n",
       "      <td>1</td>\n",
       "      <td>Two week test</td>\n",
       "      <td>1W</td>\n",
       "      <td>2023-01-05</td>\n",
       "      <td>07:00:00</td>\n",
       "      <td>4H</td>\n",
       "      <td>1</td>\n",
       "      <td>1</td>\n",
       "      <td>True</td>\n",
       "    </tr>\n",
       "    <tr>\n",
       "      <th>1</th>\n",
       "      <td>2</td>\n",
       "      <td>One week test</td>\n",
       "      <td>1W</td>\n",
       "      <td>2023-01-12</td>\n",
       "      <td>07:00:00</td>\n",
       "      <td>4H</td>\n",
       "      <td>1</td>\n",
       "      <td>1</td>\n",
       "      <td>True</td>\n",
       "    </tr>\n",
       "    <tr>\n",
       "      <th>2</th>\n",
       "      <td>3</td>\n",
       "      <td>Today test</td>\n",
       "      <td>1W</td>\n",
       "      <td>2023-01-19</td>\n",
       "      <td>07:00:00</td>\n",
       "      <td>4H</td>\n",
       "      <td>1</td>\n",
       "      <td>1</td>\n",
       "      <td>True</td>\n",
       "    </tr>\n",
       "    <tr>\n",
       "      <th>4</th>\n",
       "      <td>5</td>\n",
       "      <td>Two day today test</td>\n",
       "      <td>2D</td>\n",
       "      <td>2023-01-19</td>\n",
       "      <td>07:00:00</td>\n",
       "      <td>4H</td>\n",
       "      <td>1</td>\n",
       "      <td>1</td>\n",
       "      <td>True</td>\n",
       "    </tr>\n",
       "    <tr>\n",
       "      <th>8</th>\n",
       "      <td>11</td>\n",
       "      <td>Test chore</td>\n",
       "      <td>3D</td>\n",
       "      <td>2023-03-02</td>\n",
       "      <td>07:00</td>\n",
       "      <td>4H</td>\n",
       "      <td>1</td>\n",
       "      <td>1</td>\n",
       "      <td>True</td>\n",
       "    </tr>\n",
       "    <tr>\n",
       "      <th>9</th>\n",
       "      <td>25</td>\n",
       "      <td>New test chore</td>\n",
       "      <td>2D</td>\n",
       "      <td>2023-03-02</td>\n",
       "      <td>21:37</td>\n",
       "      <td>4H</td>\n",
       "      <td>1</td>\n",
       "      <td>1</td>\n",
       "      <td>True</td>\n",
       "    </tr>\n",
       "  </tbody>\n",
       "</table>\n",
       "</div>"
      ],
      "text/plain": [
       "   ChoreID                name schedule  start_date start_time window  \\\n",
       "0        1       Two week test       1W  2023-01-05   07:00:00     4H   \n",
       "1        2       One week test       1W  2023-01-12   07:00:00     4H   \n",
       "2        3          Today test       1W  2023-01-19   07:00:00     4H   \n",
       "4        5  Two day today test       2D  2023-01-19   07:00:00     4H   \n",
       "8       11          Test chore       3D  2023-03-02      07:00     4H   \n",
       "9       25      New test chore       2D  2023-03-02      21:37     4H   \n",
       "\n",
       "   repeats  active  ActiveToday  \n",
       "0        1       1         True  \n",
       "1        1       1         True  \n",
       "2        1       1         True  \n",
       "4        1       1         True  \n",
       "8        1       1         True  \n",
       "9        1       1         True  "
      ]
     },
     "execution_count": 15,
     "metadata": {},
     "output_type": "execute_result"
    }
   ],
   "source": [
    "utils.get_active_chores()"
   ]
  },
  {
   "cell_type": "code",
   "execution_count": 23,
   "metadata": {},
   "outputs": [
    {
     "data": {
      "text/html": [
       "<div>\n",
       "<style scoped>\n",
       "    .dataframe tbody tr th:only-of-type {\n",
       "        vertical-align: middle;\n",
       "    }\n",
       "\n",
       "    .dataframe tbody tr th {\n",
       "        vertical-align: top;\n",
       "    }\n",
       "\n",
       "    .dataframe thead th {\n",
       "        text-align: right;\n",
       "    }\n",
       "</style>\n",
       "<table border=\"1\" class=\"dataframe\">\n",
       "  <thead>\n",
       "    <tr style=\"text-align: right;\">\n",
       "      <th></th>\n",
       "      <th>ChoreInstanceID</th>\n",
       "      <th>ChoreID</th>\n",
       "      <th>ChoreDate</th>\n",
       "      <th>Completed</th>\n",
       "      <th>CompletedBy</th>\n",
       "      <th>Validated</th>\n",
       "      <th>Rate</th>\n",
       "      <th>Banked</th>\n",
       "      <th>BankedDate</th>\n",
       "    </tr>\n",
       "  </thead>\n",
       "  <tbody>\n",
       "    <tr>\n",
       "      <th>0</th>\n",
       "      <td>30</td>\n",
       "      <td>5</td>\n",
       "      <td>2023-03-04</td>\n",
       "      <td>0</td>\n",
       "      <td>NaN</td>\n",
       "      <td>0</td>\n",
       "      <td>45</td>\n",
       "      <td>0</td>\n",
       "      <td>None</td>\n",
       "    </tr>\n",
       "    <tr>\n",
       "      <th>1</th>\n",
       "      <td>31</td>\n",
       "      <td>25</td>\n",
       "      <td>2023-03-04</td>\n",
       "      <td>0</td>\n",
       "      <td>NaN</td>\n",
       "      <td>0</td>\n",
       "      <td>45</td>\n",
       "      <td>0</td>\n",
       "      <td>None</td>\n",
       "    </tr>\n",
       "    <tr>\n",
       "      <th>2</th>\n",
       "      <td>32</td>\n",
       "      <td>27</td>\n",
       "      <td>2023-03-04</td>\n",
       "      <td>1</td>\n",
       "      <td>3.0</td>\n",
       "      <td>0</td>\n",
       "      <td>45</td>\n",
       "      <td>0</td>\n",
       "      <td>None</td>\n",
       "    </tr>\n",
       "  </tbody>\n",
       "</table>\n",
       "</div>"
      ],
      "text/plain": [
       "   ChoreInstanceID  ChoreID   ChoreDate  Completed  CompletedBy  Validated  \\\n",
       "0               30        5  2023-03-04          0          NaN          0   \n",
       "1               31       25  2023-03-04          0          NaN          0   \n",
       "2               32       27  2023-03-04          1          3.0          0   \n",
       "\n",
       "   Rate  Banked BankedDate  \n",
       "0    45       0       None  \n",
       "1    45       0       None  \n",
       "2    45       0       None  "
      ]
     },
     "execution_count": 23,
     "metadata": {},
     "output_type": "execute_result"
    }
   ],
   "source": [
    "ChoreID=25\n",
    "chore_date = dt.datetime.now()\n",
    "\n",
    "utils.query_db(\n",
    "                f\"\"\"\n",
    "                select * from choreinstances where ChoreDate='{chore_date.date()}'\n",
    "                \"\"\"\n",
    "            )"
   ]
  },
  {
   "cell_type": "code",
   "execution_count": 10,
   "metadata": {},
   "outputs": [
    {
     "data": {
      "text/plain": [
       "<sqlite3.Cursor at 0x19c17f4d840>"
      ]
     },
     "execution_count": 10,
     "metadata": {},
     "output_type": "execute_result"
    }
   ],
   "source": [
    "\n",
    "utils.update_db(f\"\"\"\n",
    "        delete from choreinstances where date(ChoreDate)=date('{chore_date.date()}') and Completed = 0\n",
    "    \"\"\")"
   ]
  },
  {
   "cell_type": "code",
   "execution_count": 22,
   "metadata": {},
   "outputs": [
    {
     "data": {
      "text/html": [
       "<div>\n",
       "<style scoped>\n",
       "    .dataframe tbody tr th:only-of-type {\n",
       "        vertical-align: middle;\n",
       "    }\n",
       "\n",
       "    .dataframe tbody tr th {\n",
       "        vertical-align: top;\n",
       "    }\n",
       "\n",
       "    .dataframe thead th {\n",
       "        text-align: right;\n",
       "    }\n",
       "</style>\n",
       "<table border=\"1\" class=\"dataframe\">\n",
       "  <thead>\n",
       "    <tr style=\"text-align: right;\">\n",
       "      <th></th>\n",
       "      <th>ChoreInstanceID</th>\n",
       "      <th>ChoreID</th>\n",
       "      <th>ChoreDate</th>\n",
       "      <th>Completed</th>\n",
       "      <th>CompletedBy</th>\n",
       "      <th>Validated</th>\n",
       "      <th>Rate</th>\n",
       "      <th>Banked</th>\n",
       "      <th>BankedDate</th>\n",
       "    </tr>\n",
       "  </thead>\n",
       "  <tbody>\n",
       "    <tr>\n",
       "      <th>0</th>\n",
       "      <td>30</td>\n",
       "      <td>5</td>\n",
       "      <td>2023-03-04</td>\n",
       "      <td>0</td>\n",
       "      <td>None</td>\n",
       "      <td>0</td>\n",
       "      <td>45</td>\n",
       "      <td>0</td>\n",
       "      <td>None</td>\n",
       "    </tr>\n",
       "    <tr>\n",
       "      <th>1</th>\n",
       "      <td>31</td>\n",
       "      <td>25</td>\n",
       "      <td>2023-03-04</td>\n",
       "      <td>0</td>\n",
       "      <td>None</td>\n",
       "      <td>0</td>\n",
       "      <td>45</td>\n",
       "      <td>0</td>\n",
       "      <td>None</td>\n",
       "    </tr>\n",
       "  </tbody>\n",
       "</table>\n",
       "</div>"
      ],
      "text/plain": [
       "   ChoreInstanceID  ChoreID   ChoreDate  Completed CompletedBy  Validated  \\\n",
       "0               30        5  2023-03-04          0        None          0   \n",
       "1               31       25  2023-03-04          0        None          0   \n",
       "\n",
       "   Rate  Banked BankedDate  \n",
       "0    45       0       None  \n",
       "1    45       0       None  "
      ]
     },
     "execution_count": 22,
     "metadata": {},
     "output_type": "execute_result"
    }
   ],
   "source": [
    "utils.query_db(f\"\"\"\n",
    "select * from choreinstances where date(ChoreDate)=date('{chore_date.date()}') and Completed = 0\n",
    "\"\"\")"
   ]
  },
  {
   "cell_type": "code",
   "execution_count": 18,
   "metadata": {},
   "outputs": [],
   "source": [
    "utils.update_choreinstances()"
   ]
  },
  {
   "cell_type": "code",
   "execution_count": 21,
   "metadata": {},
   "outputs": [
    {
     "data": {
      "text/html": [
       "<div>\n",
       "<style scoped>\n",
       "    .dataframe tbody tr th:only-of-type {\n",
       "        vertical-align: middle;\n",
       "    }\n",
       "\n",
       "    .dataframe tbody tr th {\n",
       "        vertical-align: top;\n",
       "    }\n",
       "\n",
       "    .dataframe thead th {\n",
       "        text-align: right;\n",
       "    }\n",
       "</style>\n",
       "<table border=\"1\" class=\"dataframe\">\n",
       "  <thead>\n",
       "    <tr style=\"text-align: right;\">\n",
       "      <th></th>\n",
       "      <th>PersonID</th>\n",
       "      <th>PersonName</th>\n",
       "      <th>RoleName</th>\n",
       "      <th>confirmedMoney</th>\n",
       "      <th>pendingMoney</th>\n",
       "    </tr>\n",
       "  </thead>\n",
       "  <tbody>\n",
       "    <tr>\n",
       "      <th>0</th>\n",
       "      <td>4</td>\n",
       "      <td>Lottie</td>\n",
       "      <td>Child</td>\n",
       "      <td>270</td>\n",
       "      <td>0</td>\n",
       "    </tr>\n",
       "  </tbody>\n",
       "</table>\n",
       "</div>"
      ],
      "text/plain": [
       "   PersonID PersonName RoleName  confirmedMoney  pendingMoney\n",
       "0         4     Lottie    Child             270             0"
      ]
     },
     "execution_count": 21,
     "metadata": {},
     "output_type": "execute_result"
    }
   ],
   "source": [
    "utils.get_person_details(PersonID=4)"
   ]
  },
  {
   "cell_type": "code",
   "execution_count": 2,
   "metadata": {},
   "outputs": [],
   "source": [
    "s = requests.Session()"
   ]
  },
  {
   "cell_type": "code",
   "execution_count": 3,
   "metadata": {},
   "outputs": [],
   "source": [
    "api_url = 'http://localhost:5000/api/v1/resources/{}'"
   ]
  },
  {
   "cell_type": "code",
   "execution_count": 4,
   "metadata": {},
   "outputs": [
    {
     "ename": "JSONDecodeError",
     "evalue": "Expecting value: line 1 column 1 (char 0)",
     "output_type": "error",
     "traceback": [
      "\u001b[1;31m---------------------------------------------------------------------------\u001b[0m",
      "\u001b[1;31mJSONDecodeError\u001b[0m                           Traceback (most recent call last)",
      "File \u001b[1;32mc:\\Users\\mike\\Environments\\ChoreTracker\\lib\\site-packages\\requests\\models.py:971\u001b[0m, in \u001b[0;36mResponse.json\u001b[1;34m(self, **kwargs)\u001b[0m\n\u001b[0;32m    970\u001b[0m \u001b[39mtry\u001b[39;00m:\n\u001b[1;32m--> 971\u001b[0m     \u001b[39mreturn\u001b[39;00m complexjson\u001b[39m.\u001b[39mloads(\u001b[39mself\u001b[39m\u001b[39m.\u001b[39mtext, \u001b[39m*\u001b[39m\u001b[39m*\u001b[39mkwargs)\n\u001b[0;32m    972\u001b[0m \u001b[39mexcept\u001b[39;00m JSONDecodeError \u001b[39mas\u001b[39;00m e:\n\u001b[0;32m    973\u001b[0m     \u001b[39m# Catch JSON-related errors and raise as requests.JSONDecodeError\u001b[39;00m\n\u001b[0;32m    974\u001b[0m     \u001b[39m# This aliases json.JSONDecodeError and simplejson.JSONDecodeError\u001b[39;00m\n",
      "File \u001b[1;32m~\\AppData\\Local\\Programs\\Python\\Python310\\lib\\json\\__init__.py:346\u001b[0m, in \u001b[0;36mloads\u001b[1;34m(s, cls, object_hook, parse_float, parse_int, parse_constant, object_pairs_hook, **kw)\u001b[0m\n\u001b[0;32m    343\u001b[0m \u001b[39mif\u001b[39;00m (\u001b[39mcls\u001b[39m \u001b[39mis\u001b[39;00m \u001b[39mNone\u001b[39;00m \u001b[39mand\u001b[39;00m object_hook \u001b[39mis\u001b[39;00m \u001b[39mNone\u001b[39;00m \u001b[39mand\u001b[39;00m\n\u001b[0;32m    344\u001b[0m         parse_int \u001b[39mis\u001b[39;00m \u001b[39mNone\u001b[39;00m \u001b[39mand\u001b[39;00m parse_float \u001b[39mis\u001b[39;00m \u001b[39mNone\u001b[39;00m \u001b[39mand\u001b[39;00m\n\u001b[0;32m    345\u001b[0m         parse_constant \u001b[39mis\u001b[39;00m \u001b[39mNone\u001b[39;00m \u001b[39mand\u001b[39;00m object_pairs_hook \u001b[39mis\u001b[39;00m \u001b[39mNone\u001b[39;00m \u001b[39mand\u001b[39;00m \u001b[39mnot\u001b[39;00m kw):\n\u001b[1;32m--> 346\u001b[0m     \u001b[39mreturn\u001b[39;00m _default_decoder\u001b[39m.\u001b[39;49mdecode(s)\n\u001b[0;32m    347\u001b[0m \u001b[39mif\u001b[39;00m \u001b[39mcls\u001b[39m \u001b[39mis\u001b[39;00m \u001b[39mNone\u001b[39;00m:\n",
      "File \u001b[1;32m~\\AppData\\Local\\Programs\\Python\\Python310\\lib\\json\\decoder.py:337\u001b[0m, in \u001b[0;36mJSONDecoder.decode\u001b[1;34m(self, s, _w)\u001b[0m\n\u001b[0;32m    333\u001b[0m \u001b[39m\u001b[39m\u001b[39m\"\"\"Return the Python representation of ``s`` (a ``str`` instance\u001b[39;00m\n\u001b[0;32m    334\u001b[0m \u001b[39mcontaining a JSON document).\u001b[39;00m\n\u001b[0;32m    335\u001b[0m \n\u001b[0;32m    336\u001b[0m \u001b[39m\"\"\"\u001b[39;00m\n\u001b[1;32m--> 337\u001b[0m obj, end \u001b[39m=\u001b[39m \u001b[39mself\u001b[39;49m\u001b[39m.\u001b[39;49mraw_decode(s, idx\u001b[39m=\u001b[39;49m_w(s, \u001b[39m0\u001b[39;49m)\u001b[39m.\u001b[39;49mend())\n\u001b[0;32m    338\u001b[0m end \u001b[39m=\u001b[39m _w(s, end)\u001b[39m.\u001b[39mend()\n",
      "File \u001b[1;32m~\\AppData\\Local\\Programs\\Python\\Python310\\lib\\json\\decoder.py:355\u001b[0m, in \u001b[0;36mJSONDecoder.raw_decode\u001b[1;34m(self, s, idx)\u001b[0m\n\u001b[0;32m    354\u001b[0m \u001b[39mexcept\u001b[39;00m \u001b[39mStopIteration\u001b[39;00m \u001b[39mas\u001b[39;00m err:\n\u001b[1;32m--> 355\u001b[0m     \u001b[39mraise\u001b[39;00m JSONDecodeError(\u001b[39m\"\u001b[39m\u001b[39mExpecting value\u001b[39m\u001b[39m\"\u001b[39m, s, err\u001b[39m.\u001b[39mvalue) \u001b[39mfrom\u001b[39;00m \u001b[39mNone\u001b[39m\n\u001b[0;32m    356\u001b[0m \u001b[39mreturn\u001b[39;00m obj, end\n",
      "\u001b[1;31mJSONDecodeError\u001b[0m: Expecting value: line 1 column 1 (char 0)",
      "\nDuring handling of the above exception, another exception occurred:\n",
      "\u001b[1;31mJSONDecodeError\u001b[0m                           Traceback (most recent call last)",
      "Cell \u001b[1;32mIn[4], line 1\u001b[0m\n\u001b[1;32m----> 1\u001b[0m r \u001b[39m=\u001b[39m s\u001b[39m.\u001b[39;49mget(api_url\u001b[39m.\u001b[39;49mformat(\u001b[39m'\u001b[39;49m\u001b[39mget_chores\u001b[39;49m\u001b[39m'\u001b[39;49m), params\u001b[39m=\u001b[39;49m{\u001b[39m'\u001b[39;49m\u001b[39mpersonId\u001b[39;49m\u001b[39m'\u001b[39;49m: \u001b[39m4\u001b[39;49m})\u001b[39m.\u001b[39;49mjson()\n",
      "File \u001b[1;32mc:\\Users\\mike\\Environments\\ChoreTracker\\lib\\site-packages\\requests\\models.py:975\u001b[0m, in \u001b[0;36mResponse.json\u001b[1;34m(self, **kwargs)\u001b[0m\n\u001b[0;32m    971\u001b[0m     \u001b[39mreturn\u001b[39;00m complexjson\u001b[39m.\u001b[39mloads(\u001b[39mself\u001b[39m\u001b[39m.\u001b[39mtext, \u001b[39m*\u001b[39m\u001b[39m*\u001b[39mkwargs)\n\u001b[0;32m    972\u001b[0m \u001b[39mexcept\u001b[39;00m JSONDecodeError \u001b[39mas\u001b[39;00m e:\n\u001b[0;32m    973\u001b[0m     \u001b[39m# Catch JSON-related errors and raise as requests.JSONDecodeError\u001b[39;00m\n\u001b[0;32m    974\u001b[0m     \u001b[39m# This aliases json.JSONDecodeError and simplejson.JSONDecodeError\u001b[39;00m\n\u001b[1;32m--> 975\u001b[0m     \u001b[39mraise\u001b[39;00m RequestsJSONDecodeError(e\u001b[39m.\u001b[39mmsg, e\u001b[39m.\u001b[39mdoc, e\u001b[39m.\u001b[39mpos)\n",
      "\u001b[1;31mJSONDecodeError\u001b[0m: Expecting value: line 1 column 1 (char 0)"
     ]
    }
   ],
   "source": [
    "r = s.get(api_url.format('get_chores'), params={'personId': 4}).json()"
   ]
  },
  {
   "cell_type": "code",
   "execution_count": 25,
   "metadata": {},
   "outputs": [
    {
     "data": {
      "text/plain": [
       "'{\"ChoreID\":{\"0\":1,\"1\":2,\"2\":3,\"3\":4,\"4\":5,\"5\":6,\"6\":7,\"7\":8,\"8\":9},\"name\":{\"0\":\"Two week test\",\"1\":\"One week test\",\"2\":\"Today test\",\"3\":\"Two day yesterday test\",\"4\":\"Two day today test\",\"5\":\"Two day today inactive test\",\"6\":\"Test API chore\",\"7\":\"Test Form chore\",\"8\":\"Mr Michael E Roberts\"},\"schedule\":{\"0\":\"1W\",\"1\":\"1W\",\"2\":\"1W\",\"3\":\"2D\",\"4\":\"2D\",\"5\":\"2D\",\"6\":\"2D\",\"7\":\"1D\",\"8\":\"1W\"},\"start_date\":{\"0\":\"2023-01-05\",\"1\":\"2023-01-12\",\"2\":\"2023-01-19\",\"3\":\"2023-01-18\",\"4\":\"2023-01-19\",\"5\":\"2023-01-19\",\"6\":\"2023-01-28\",\"7\":\"2023-01-28\",\"8\":\"2023-01-28\"},\"start_time\":{\"0\":\"07:00:00\",\"1\":\"07:00:00\",\"2\":\"07:00:00\",\"3\":\"07:00:00\",\"4\":\"07:00:00\",\"5\":\"07:00:00\",\"6\":\"08:00:00\",\"7\":\"(datetime.time(7, 0),)\",\"8\":\"10\"},\"window\":{\"0\":\"4H\",\"1\":\"4H\",\"2\":\"4H\",\"3\":\"4H\",\"4\":\"4H\",\"5\":\"4H\",\"6\":\"6H\",\"7\":\"4H\",\"8\":\"12H\"},\"repeats\":{\"0\":1,\"1\":1,\"2\":1,\"3\":1,\"4\":1,\"5\":1,\"6\":0,\"7\":1,\"8\":0},\"active\":{\"0\":1,\"1\":1,\"2\":1,\"3\":1,\"4\":1,\"5\":0,\"6\":1,\"7\":0,\"8\":1}}'"
      ]
     },
     "execution_count": 25,
     "metadata": {},
     "output_type": "execute_result"
    }
   ],
   "source": [
    "# r.content.decode() # \n",
    "r['results']"
   ]
  },
  {
   "cell_type": "code",
   "execution_count": 26,
   "metadata": {},
   "outputs": [
    {
     "data": {
      "text/html": [
       "<div>\n",
       "<style scoped>\n",
       "    .dataframe tbody tr th:only-of-type {\n",
       "        vertical-align: middle;\n",
       "    }\n",
       "\n",
       "    .dataframe tbody tr th {\n",
       "        vertical-align: top;\n",
       "    }\n",
       "\n",
       "    .dataframe thead th {\n",
       "        text-align: right;\n",
       "    }\n",
       "</style>\n",
       "<table border=\"1\" class=\"dataframe\">\n",
       "  <thead>\n",
       "    <tr style=\"text-align: right;\">\n",
       "      <th></th>\n",
       "      <th>ChoreID</th>\n",
       "      <th>name</th>\n",
       "      <th>schedule</th>\n",
       "      <th>start_date</th>\n",
       "      <th>start_time</th>\n",
       "      <th>window</th>\n",
       "      <th>repeats</th>\n",
       "      <th>active</th>\n",
       "    </tr>\n",
       "  </thead>\n",
       "  <tbody>\n",
       "    <tr>\n",
       "      <th>0</th>\n",
       "      <td>1</td>\n",
       "      <td>Two week test</td>\n",
       "      <td>1W</td>\n",
       "      <td>2023-01-05</td>\n",
       "      <td>07:00:00</td>\n",
       "      <td>4H</td>\n",
       "      <td>1</td>\n",
       "      <td>1</td>\n",
       "    </tr>\n",
       "    <tr>\n",
       "      <th>1</th>\n",
       "      <td>2</td>\n",
       "      <td>One week test</td>\n",
       "      <td>1W</td>\n",
       "      <td>2023-01-12</td>\n",
       "      <td>07:00:00</td>\n",
       "      <td>4H</td>\n",
       "      <td>1</td>\n",
       "      <td>1</td>\n",
       "    </tr>\n",
       "    <tr>\n",
       "      <th>2</th>\n",
       "      <td>3</td>\n",
       "      <td>Today test</td>\n",
       "      <td>1W</td>\n",
       "      <td>2023-01-19</td>\n",
       "      <td>07:00:00</td>\n",
       "      <td>4H</td>\n",
       "      <td>1</td>\n",
       "      <td>1</td>\n",
       "    </tr>\n",
       "    <tr>\n",
       "      <th>3</th>\n",
       "      <td>4</td>\n",
       "      <td>Two day yesterday test</td>\n",
       "      <td>2D</td>\n",
       "      <td>2023-01-18</td>\n",
       "      <td>07:00:00</td>\n",
       "      <td>4H</td>\n",
       "      <td>1</td>\n",
       "      <td>1</td>\n",
       "    </tr>\n",
       "    <tr>\n",
       "      <th>4</th>\n",
       "      <td>5</td>\n",
       "      <td>Two day today test</td>\n",
       "      <td>2D</td>\n",
       "      <td>2023-01-19</td>\n",
       "      <td>07:00:00</td>\n",
       "      <td>4H</td>\n",
       "      <td>1</td>\n",
       "      <td>1</td>\n",
       "    </tr>\n",
       "    <tr>\n",
       "      <th>5</th>\n",
       "      <td>6</td>\n",
       "      <td>Two day today inactive test</td>\n",
       "      <td>2D</td>\n",
       "      <td>2023-01-19</td>\n",
       "      <td>07:00:00</td>\n",
       "      <td>4H</td>\n",
       "      <td>1</td>\n",
       "      <td>0</td>\n",
       "    </tr>\n",
       "    <tr>\n",
       "      <th>6</th>\n",
       "      <td>7</td>\n",
       "      <td>Test API chore</td>\n",
       "      <td>2D</td>\n",
       "      <td>2023-01-28</td>\n",
       "      <td>08:00:00</td>\n",
       "      <td>6H</td>\n",
       "      <td>0</td>\n",
       "      <td>1</td>\n",
       "    </tr>\n",
       "    <tr>\n",
       "      <th>7</th>\n",
       "      <td>8</td>\n",
       "      <td>Test Form chore</td>\n",
       "      <td>1D</td>\n",
       "      <td>2023-01-28</td>\n",
       "      <td>(datetime.time(7, 0),)</td>\n",
       "      <td>4H</td>\n",
       "      <td>1</td>\n",
       "      <td>0</td>\n",
       "    </tr>\n",
       "    <tr>\n",
       "      <th>8</th>\n",
       "      <td>9</td>\n",
       "      <td>Mr Michael E Roberts</td>\n",
       "      <td>1W</td>\n",
       "      <td>2023-01-28</td>\n",
       "      <td>10</td>\n",
       "      <td>12H</td>\n",
       "      <td>0</td>\n",
       "      <td>1</td>\n",
       "    </tr>\n",
       "  </tbody>\n",
       "</table>\n",
       "</div>"
      ],
      "text/plain": [
       "   ChoreID                         name schedule  start_date  \\\n",
       "0        1                Two week test       1W  2023-01-05   \n",
       "1        2                One week test       1W  2023-01-12   \n",
       "2        3                   Today test       1W  2023-01-19   \n",
       "3        4       Two day yesterday test       2D  2023-01-18   \n",
       "4        5           Two day today test       2D  2023-01-19   \n",
       "5        6  Two day today inactive test       2D  2023-01-19   \n",
       "6        7               Test API chore       2D  2023-01-28   \n",
       "7        8              Test Form chore       1D  2023-01-28   \n",
       "8        9         Mr Michael E Roberts       1W  2023-01-28   \n",
       "\n",
       "               start_time window  repeats  active  \n",
       "0                07:00:00     4H        1       1  \n",
       "1                07:00:00     4H        1       1  \n",
       "2                07:00:00     4H        1       1  \n",
       "3                07:00:00     4H        1       1  \n",
       "4                07:00:00     4H        1       1  \n",
       "5                07:00:00     4H        1       0  \n",
       "6                08:00:00     6H        0       1  \n",
       "7  (datetime.time(7, 0),)     4H        1       0  \n",
       "8                      10    12H        0       1  "
      ]
     },
     "execution_count": 26,
     "metadata": {},
     "output_type": "execute_result"
    }
   ],
   "source": [
    "df = pd.DataFrame(json.loads(r['results']))\n",
    "# list(zip(df['ChoreInstanceID'], df['name'], df['Completed']))\n",
    "df"
   ]
  },
  {
   "cell_type": "code",
   "execution_count": 104,
   "metadata": {},
   "outputs": [],
   "source": [
    "for i in [9, 10,11,12]:\n",
    "    s.post(api_url.format('uncomplete_chore_instance'), params={'choreInstanceId': i}) # .json()"
   ]
  },
  {
   "cell_type": "code",
   "execution_count": 88,
   "metadata": {},
   "outputs": [
    {
     "data": {
      "text/plain": [
       "<Response [200]>"
      ]
     },
     "execution_count": 88,
     "metadata": {},
     "output_type": "execute_result"
    }
   ],
   "source": [
    "r"
   ]
  },
  {
   "cell_type": "code",
   "execution_count": 7,
   "metadata": {},
   "outputs": [
    {
     "data": {
      "text/plain": [
       "<Response [200]>"
      ]
     },
     "execution_count": 7,
     "metadata": {},
     "output_type": "execute_result"
    }
   ],
   "source": [
    "#    name: str = None,\n",
    "#    schedule: str = '1D',\n",
    "#    start_date: dt.date = dt.date.today(),\n",
    "#    start_time: dt.time = dt.time(7),\n",
    "#    window: str = '4H',\n",
    "#    repeats: bool = True,\n",
    "#    active: bool = True,\n",
    "\n",
    "s.post(api_url.format('create_chore'), \n",
    "    headers={\n",
    "            \"Content-type\": \"application/x-www-form-urlencoded; charset=UTF-8\"\n",
    "        },\n",
    "    data={\n",
    "            'name': 'Test API chore',\n",
    "            'schedule': '2D',\n",
    "            'start_date': dt.date.today() + dt.timedelta(days=1),\n",
    "            'start_time': dt.time(8),\n",
    "            'window': '6H',\n",
    "            'repeats': False,\n",
    "            'active': True\n",
    "        }\n",
    "    )"
   ]
  },
  {
   "cell_type": "code",
   "execution_count": null,
   "metadata": {},
   "outputs": [],
   "source": []
  }
 ],
 "metadata": {
  "kernelspec": {
   "display_name": "ChoreTracker",
   "language": "python",
   "name": "python3"
  },
  "language_info": {
   "codemirror_mode": {
    "name": "ipython",
    "version": 3
   },
   "file_extension": ".py",
   "mimetype": "text/x-python",
   "name": "python",
   "nbconvert_exporter": "python",
   "pygments_lexer": "ipython3",
   "version": "3.10.1"
  },
  "orig_nbformat": 4,
  "vscode": {
   "interpreter": {
    "hash": "9c10cf430ce861754ff4f9ec75d9fde65b41e97ba7d43094f3c02d2336b577f3"
   }
  }
 },
 "nbformat": 4,
 "nbformat_minor": 2
}
