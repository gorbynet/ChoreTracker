{
 "cells": [
  {
   "cell_type": "code",
   "execution_count": 1,
   "metadata": {},
   "outputs": [],
   "source": [
    "import requests\n",
    "import json\n",
    "import pandas as pd\n",
    "import datetime as dt"
   ]
  },
  {
   "cell_type": "code",
   "execution_count": 2,
   "metadata": {},
   "outputs": [],
   "source": [
    "s = requests.Session()"
   ]
  },
  {
   "cell_type": "code",
   "execution_count": 3,
   "metadata": {},
   "outputs": [],
   "source": [
    "api_url = 'http://localhost:5000/api/v1/resources/{}'"
   ]
  },
  {
   "cell_type": "code",
   "execution_count": 6,
   "metadata": {},
   "outputs": [],
   "source": [
    "r = s.get(api_url.format('get_people'), params={'personId': 4}).json()"
   ]
  },
  {
   "cell_type": "code",
   "execution_count": 7,
   "metadata": {},
   "outputs": [
    {
     "data": {
      "text/plain": [
       "'{\"PersonID\":{\"0\":1,\"1\":2,\"2\":3,\"3\":4},\"PersonName\":{\"0\":\"Mike\",\"1\":\"Michelle\",\"2\":\"Jake\",\"3\":\"Lottie\"},\"RoleID\":{\"0\":2,\"1\":2,\"2\":3,\"3\":3},\"CurrentBalance\":{\"0\":0,\"1\":0,\"2\":0,\"3\":0}}'"
      ]
     },
     "execution_count": 7,
     "metadata": {},
     "output_type": "execute_result"
    }
   ],
   "source": [
    "# r.content.decode() # \n",
    "r['results']"
   ]
  },
  {
   "cell_type": "code",
   "execution_count": 8,
   "metadata": {},
   "outputs": [
    {
     "data": {
      "text/html": [
       "<div>\n",
       "<style scoped>\n",
       "    .dataframe tbody tr th:only-of-type {\n",
       "        vertical-align: middle;\n",
       "    }\n",
       "\n",
       "    .dataframe tbody tr th {\n",
       "        vertical-align: top;\n",
       "    }\n",
       "\n",
       "    .dataframe thead th {\n",
       "        text-align: right;\n",
       "    }\n",
       "</style>\n",
       "<table border=\"1\" class=\"dataframe\">\n",
       "  <thead>\n",
       "    <tr style=\"text-align: right;\">\n",
       "      <th></th>\n",
       "      <th>PersonID</th>\n",
       "      <th>PersonName</th>\n",
       "      <th>RoleID</th>\n",
       "      <th>CurrentBalance</th>\n",
       "    </tr>\n",
       "  </thead>\n",
       "  <tbody>\n",
       "    <tr>\n",
       "      <th>0</th>\n",
       "      <td>1</td>\n",
       "      <td>Mike</td>\n",
       "      <td>2</td>\n",
       "      <td>0</td>\n",
       "    </tr>\n",
       "    <tr>\n",
       "      <th>1</th>\n",
       "      <td>2</td>\n",
       "      <td>Michelle</td>\n",
       "      <td>2</td>\n",
       "      <td>0</td>\n",
       "    </tr>\n",
       "    <tr>\n",
       "      <th>2</th>\n",
       "      <td>3</td>\n",
       "      <td>Jake</td>\n",
       "      <td>3</td>\n",
       "      <td>0</td>\n",
       "    </tr>\n",
       "    <tr>\n",
       "      <th>3</th>\n",
       "      <td>4</td>\n",
       "      <td>Lottie</td>\n",
       "      <td>3</td>\n",
       "      <td>0</td>\n",
       "    </tr>\n",
       "  </tbody>\n",
       "</table>\n",
       "</div>"
      ],
      "text/plain": [
       "   PersonID PersonName  RoleID  CurrentBalance\n",
       "0         1       Mike       2               0\n",
       "1         2   Michelle       2               0\n",
       "2         3       Jake       3               0\n",
       "3         4     Lottie       3               0"
      ]
     },
     "execution_count": 8,
     "metadata": {},
     "output_type": "execute_result"
    }
   ],
   "source": [
    "df = pd.DataFrame(json.loads(r['results']))\n",
    "# list(zip(df['ChoreInstanceID'], df['name'], df['Completed']))\n",
    "df"
   ]
  },
  {
   "cell_type": "code",
   "execution_count": 104,
   "metadata": {},
   "outputs": [],
   "source": [
    "for i in [9, 10,11,12]:\n",
    "    s.post(api_url.format('uncomplete_chore_instance'), params={'choreInstanceId': i}) # .json()"
   ]
  },
  {
   "cell_type": "code",
   "execution_count": 88,
   "metadata": {},
   "outputs": [
    {
     "data": {
      "text/plain": [
       "<Response [200]>"
      ]
     },
     "execution_count": 88,
     "metadata": {},
     "output_type": "execute_result"
    }
   ],
   "source": [
    "r"
   ]
  },
  {
   "cell_type": "code",
   "execution_count": 7,
   "metadata": {},
   "outputs": [
    {
     "data": {
      "text/plain": [
       "<Response [200]>"
      ]
     },
     "execution_count": 7,
     "metadata": {},
     "output_type": "execute_result"
    }
   ],
   "source": [
    "#    name: str = None,\n",
    "#    schedule: str = '1D',\n",
    "#    start_date: dt.date = dt.date.today(),\n",
    "#    start_time: dt.time = dt.time(7),\n",
    "#    window: str = '4H',\n",
    "#    repeats: bool = True,\n",
    "#    active: bool = True,\n",
    "\n",
    "s.post(api_url.format('create_chore'), \n",
    "    headers={\n",
    "            \"Content-type\": \"application/x-www-form-urlencoded; charset=UTF-8\"\n",
    "        },\n",
    "    data={\n",
    "            'name': 'Test API chore',\n",
    "            'schedule': '2D',\n",
    "            'start_date': dt.date.today() + dt.timedelta(days=1),\n",
    "            'start_time': dt.time(8),\n",
    "            'window': '6H',\n",
    "            'repeats': False,\n",
    "            'active': True\n",
    "        }\n",
    "    )"
   ]
  },
  {
   "cell_type": "code",
   "execution_count": null,
   "metadata": {},
   "outputs": [],
   "source": []
  }
 ],
 "metadata": {
  "kernelspec": {
   "display_name": "ChoreTracker",
   "language": "python",
   "name": "python3"
  },
  "language_info": {
   "codemirror_mode": {
    "name": "ipython",
    "version": 3
   },
   "file_extension": ".py",
   "mimetype": "text/x-python",
   "name": "python",
   "nbconvert_exporter": "python",
   "pygments_lexer": "ipython3",
   "version": "3.10.1 (tags/v3.10.1:2cd268a, Dec  6 2021, 19:10:37) [MSC v.1929 64 bit (AMD64)]"
  },
  "orig_nbformat": 4,
  "vscode": {
   "interpreter": {
    "hash": "9c10cf430ce861754ff4f9ec75d9fde65b41e97ba7d43094f3c02d2336b577f3"
   }
  }
 },
 "nbformat": 4,
 "nbformat_minor": 2
}
